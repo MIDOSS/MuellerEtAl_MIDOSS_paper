{
 "cells": [
  {
   "cell_type": "markdown",
   "id": "c5ca5eed-5db2-47d1-8707-d517e6b0e9d0",
   "metadata": {
    "tags": []
   },
   "source": [
    "---\n",
    "# Part 2, Figure 3\n",
    "Graphic for oil spill fate by \"location category\", i.e. water column, water surface, beach, and air (evaporation)\n",
    "\n",
    "---\n",
    "\n",
    "This code requires output from code run on Compute Canada's HPC. For the purpose of this publication, this code has been placed in `../scripts/HPC_scripts/HPC_aggregate_mass_balance.py`\n",
    "\n",
    "## Environment Setup\n",
    "\n",
    "Install required packages using the provided environment file:\n",
    "```bash\n",
    "conda env create -f ../environment.yaml\n",
    "conda activate midoss_env\n",
    "```\n",
    "\n",
    "*Ensure the dataset and code repositories are in the same root folder:*\n",
    "```\n",
    "root_folder/\n",
    "├── MuellerEtAl_MIDOSS_datasets/\n",
    "└── MuellerEtAl_MIDOSS_code/   # (this repository)\n",
    "```\n",
    "\n",
    "`MuellerEtAl_MIDOSS_datasets` is the companion [FRDR data repository](https://doi.org/10.20383/103.01353)"
   ]
  },
  {
   "cell_type": "code",
   "execution_count": 1,
   "id": "298850a8-39d3-4492-8524-c08970a2035d",
   "metadata": {},
   "outputs": [],
   "source": [
    "import sys\n",
    "import numpy as np\n",
    "import pandas as pd\n",
    "import matplotlib.pyplot as plt\n",
    "import matplotlib as mpl\n",
    "from pathlib import Path\n",
    "import yaml\n",
    "import timeß"
   ]
  },
  {
   "cell_type": "markdown",
   "id": "994a22de-0eed-4539-8236-967159b35040",
   "metadata": {},
   "source": [
    "### Directory paths and file names"
   ]
  },
  {
   "cell_type": "code",
   "execution_count": 2,
   "id": "4da44a2b-dfad-41c8-8eef-8ca495d8364a",
   "metadata": {},
   "outputs": [],
   "source": [
    "# graphics style\n",
    "plt.style.use(r\"../graphics_utils/style.template\")\n",
    "\n",
    "# predefined naming conventions\n",
    "sys.path.append('../graphics_utils/')\n",
    "import graphics_setup as graphics\n",
    "\n",
    "# directories\n",
    "aggregated_spills_dir =Path('../../MuellerEtAl_MIDOSS_datasets/aggregated_spills_output')\n",
    "graphics_dir = Path('..')\n",
    "spills_csv_dir = Path(\n",
    "    '../../MuellerEtAl_MIDOSS_datasets/spill_files'\n",
    ")\n",
    "spill_init=pd.read_csv(spills_csv_dir/'SalishSea_oil_spills_4.csv')\n",
    "\n",
    "# created with ../scripts/HPC_scripts/HPC_aggregate_mass_balance.py\n",
    "input_file_oil = aggregated_spills_dir/'massbalance_byoil_16062022_03:20:07.yaml'"
   ]
  },
  {
   "cell_type": "markdown",
   "id": "d44f5300-14ef-439a-9332-d572fe747c20",
   "metadata": {},
   "source": [
    "### Open existing mass aggregation file"
   ]
  },
  {
   "cell_type": "code",
   "execution_count": 3,
   "id": "83fbe174-8833-4df7-974d-15d7865818dd",
   "metadata": {},
   "outputs": [],
   "source": [
    " with open(input_file_oil) as file:\n",
    "     sro = yaml.safe_load(file)"
   ]
  },
  {
   "cell_type": "code",
   "execution_count": 4,
   "id": "5498560d-7315-422e-aad0-19e835fb4175",
   "metadata": {},
   "outputs": [],
   "source": [
    "df={}\n",
    "df['ANS'] = pd.DataFrame(sro['ANS'])\n",
    "df['Bunker-C'] = pd.DataFrame(sro['Bunker-C'])\n",
    "df['Diesel'] = pd.DataFrame(sro['Diesel'])\n",
    "df['Dilbit'] = pd.DataFrame(sro['Dilbit'])"
   ]
  },
  {
   "cell_type": "markdown",
   "id": "62901a50-0c8d-48c5-a78e-115013fd4d32",
   "metadata": {
    "tags": []
   },
   "source": [
    "### calculate geometric mean of mass values\n",
    "- total (MEvaporated + MDispersed + MDissolved + MBio + MSurface + MBeached)\n",
    "- surface (MassOil)\n",
    "- beached (MBeached)\n",
    "- water column (MDispersed, MDissolved, MBio)"
   ]
  },
  {
   "cell_type": "code",
   "execution_count": 5,
   "id": "2f9fcf1a-dfa6-477c-86ab-defee0e452bb",
   "metadata": {},
   "outputs": [
    {
     "name": "stdout",
     "output_type": "stream",
     "text": [
      "ANS\n",
      "Bunker-C\n",
      "Diesel\n",
      "Dilbit\n"
     ]
    }
   ],
   "source": [
    "# specify key words\n",
    "oil_types = ['ANS', 'Bunker-C', 'Diesel', 'Dilbit']\n",
    "#oil_types = ['ANS', 'Bunker-C', 'Diesel']\n",
    "locations = ['water','sfc','beach','air']\n",
    "# initialize dictionaries\n",
    "water = {}\n",
    "sfc = {}\n",
    "beach = {}\n",
    "air = {}\n",
    "time={}\n",
    "initial={}\n",
    "final={}\n",
    "tmp={}\n",
    "mass_max = {}\n",
    "combined_mass = {}\n",
    "total_mass = {}\n",
    "# create dictionary of mean values (update code later to use this method for geometric mean values!)\n",
    "mean = {}\n",
    "for location in locations:\n",
    "    mean[location] = {}\n",
    "    final[location]={}\n",
    "    for oil in oil_types:\n",
    "        final[location][oil]=[]\n",
    "# cataloge information by oil type\n",
    "for oil in oil_types:\n",
    "    print(oil)\n",
    "    # number of spills with positive dissolution (note: for Bunker but applied to all)\n",
    "    Nspills = len(df[oil]['MDissolved'].loc[df[oil]['MDissolved']>0])\n",
    "    water_col = (df[oil]['MDispersed'].loc[df[oil]['MDissolved']>0] + \n",
    "        df[oil]['MDissolved'].loc[df[oil]['MDissolved']>0] + \n",
    "        df[oil]['MBio'].loc[df[oil]['MDissolved']>0])\n",
    "    # remove values associated with bogus dissolution/evaporation/surface\n",
    "    surface = df[oil]['MassOil'].loc[df[oil]['MDissolved']>0]\n",
    "    beached = df[oil]['MBeached'].loc[df[oil]['MDissolved']>0]\n",
    "    evaporated = df[oil]['MEvaporated'].loc[df[oil]['MDissolved']>0]\n",
    "    # get vectors of spill duration \n",
    "    time[oil]=df[oil]['days_since_spill'].loc[df[oil]['MDissolved']>0]\n",
    "    # calculate geometric means\n",
    "    water[oil]=np.exp(np.log(water_col.loc[water_col>0]).sum()/ Nspills)\n",
    "    sfc[oil]=np.exp(np.log(surface.loc[surface>0]).sum()/ Nspills)\n",
    "    beach[oil]=np.exp(np.log(beached.loc[beached>0]).sum()/ Nspills)\n",
    "    air[oil]=np.exp(np.log(evaporated.loc[evaporated>0]).sum()/ Nspills)\n",
    "    # Add up total, initial oil mass\n",
    "    initial[oil]=df[oil]['MInitial'].loc[df[oil]['MDissolved']>0]\n",
    "    # Save array of final, total oil mass for all runs\n",
    "    final['water'][oil]=water_col\n",
    "    final['sfc'][oil]=surface\n",
    "    final['beach'][oil]=beached\n",
    "    final['air'][oil]=evaporated\n",
    "    # calculate means\n",
    "    mean['water'][oil] = water_col.sum()/ Nspills\n",
    "    mean['sfc'][oil] = surface.sum()/ Nspills\n",
    "    mean['beach'][oil] = beached.sum()/ Nspills\n",
    "    mean['air'][oil] = evaporated.sum()/Nspills\n",
    "    # all but evaporation\n",
    "    combined_mass[oil] = water_col.sum() + surface.sum() + beached.sum()\n",
    "    total_mass[oil] = combined_mass[oil] + evaporated.sum()"
   ]
  },
  {
   "cell_type": "markdown",
   "id": "a6267d9e-a2d6-4352-9cd2-6ad50653ded2",
   "metadata": {},
   "source": [
    "## Evaluate spills that are included in this analysis"
   ]
  },
  {
   "cell_type": "markdown",
   "id": "d5090b28-9888-4195-9caf-63f8e22b4db3",
   "metadata": {},
   "source": [
    "### spill duration and number of spills"
   ]
  },
  {
   "cell_type": "code",
   "execution_count": 6,
   "id": "fdd287b3-08c7-4532-bebc-302909729f51",
   "metadata": {},
   "outputs": [
    {
     "name": "stdout",
     "output_type": "stream",
     "text": [
      "*** Spill duration and [number of spills] included in analysis ***\n",
      "ANS: 7.00, 0.79, 6.60 [64]\n",
      "Bunker-C: 7.00, 0.04, 5.08 [3416]\n",
      "Diesel: 3.38, 0.08, 3.94 [6352]\n",
      "Dilbit: 1.21, 1.21, 1.21 [1]\n"
     ]
    }
   ],
   "source": [
    "print('*** Spill duration and [number of spills] included in analysis ***') \n",
    "for oilname in [*time]:\n",
    "    print(f'{oilname}: {np.median(time[oilname]):2.2f}, {np.min(time[oilname]):2.2f}, {np.mean(time[oilname]):2.2f} [{len(time[oilname])}]')"
   ]
  },
  {
   "cell_type": "markdown",
   "id": "2f167b3a-f03d-4a14-bf99-93ea8c770ae5",
   "metadata": {},
   "source": [
    "### verify number of spills in input dictionary"
   ]
  },
  {
   "cell_type": "code",
   "execution_count": 7,
   "id": "3af9c8f4-e8db-46fb-a24e-3f575abe6cfe",
   "metadata": {},
   "outputs": [
    {
     "name": "stdout",
     "output_type": "stream",
     "text": [
      "ANS: 64 spills\n",
      "Bunker-C: 3416 spills\n",
      "Diesel: 6352 spills\n",
      "Dilbit: 1 spills\n",
      "---------------\n",
      "TOTAL: 9833\n"
     ]
    }
   ],
   "source": [
    "total=0\n",
    "for oilname in [*sro]:\n",
    "    print(f'{oilname}: {len(sro[oilname][\"MassOil\"])} spills')\n",
    "    total+=len(sro[oilname][\"MassOil\"])\n",
    "print('---------------')\n",
    "print(f'TOTAL: {total}')"
   ]
  },
  {
   "cell_type": "markdown",
   "id": "d7c87907-8e67-43ca-8220-7884c0c67c4b",
   "metadata": {},
   "source": [
    "### Extract information from the monte carlo spills file used to run the MOHID model"
   ]
  },
  {
   "cell_type": "code",
   "execution_count": 8,
   "id": "b45baa78-5499-488c-86ee-8357c8be79d6",
   "metadata": {},
   "outputs": [],
   "source": [
    "# define names used for Lagrangian files\n",
    "oil_template_names = [\n",
    "    'Lagrangian_akns.dat','Lagrangian_bunker.dat',\n",
    "     'Lagrangian_diesel.dat','Lagrangian_gas.dat',\n",
    "     'Lagrangian_jet.dat','Lagrangian_dilbit.dat',\n",
    "     'Lagrangian_other.dat'\n",
    "]\n",
    "# define desired, end-product names for oil-types\n",
    "oil_types_7 = [\n",
    "    'ANS','Bunker-C',\n",
    "    'Diesel','Diesel',\n",
    "    'Diesel','Dilbit', \n",
    "    'Bunker-C'\n",
    "]\n",
    "\n",
    "# replace Lagrangian template file names with oil type tags\n",
    "spill_init['oil_type'] = spill_init['Lagrangian_template'].replace(\n",
    "    oil_template_names, \n",
    "    oil_types_7\n",
    ")\n",
    "# volume of spills by oil type (converted to megaliters)\n",
    "volume = dict(spill_init.groupby('oil_type').spill_volume.sum()/1e6)\n",
    "volume_max = dict(spill_init.groupby('oil_type').spill_volume.max()/1e6)\n",
    "# number of spills by oil type\n",
    "number_spills=dict(spill_init[['oil_type','spill_date_hour']].groupby('oil_type').count().rename(columns={'spill_date_hour':'N spills'}))\n",
    "# geometric mean of spills\n",
    "spill_init['spill_volume_ln'] = np.log(spill_init['spill_volume'])\n",
    "geomean = dict(np.exp(spill_init.groupby('oil_type').spill_volume_ln.sum()/number_spills['N spills'])/1e6)"
   ]
  },
  {
   "cell_type": "code",
   "execution_count": null,
   "id": "f0556c87-f8a3-4782-955f-710b1ab332fc",
   "metadata": {},
   "outputs": [],
   "source": []
  },
  {
   "cell_type": "code",
   "execution_count": null,
   "id": "37caf60a-86f2-4db1-8293-e7ed7ac45f1e",
   "metadata": {},
   "outputs": [],
   "source": []
  },
  {
   "cell_type": "code",
   "execution_count": null,
   "id": "e0097625-b613-4858-b3e6-b34cca1f7484",
   "metadata": {},
   "outputs": [],
   "source": []
  },
  {
   "cell_type": "markdown",
   "id": "9239d8ea-7565-489a-b6a3-b58d7c3145f4",
   "metadata": {},
   "source": [
    "## Plot results"
   ]
  },
  {
   "cell_type": "code",
   "execution_count": 9,
   "id": "f1c1239d-6c8e-4828-bd4d-2e2175e35e2d",
   "metadata": {},
   "outputs": [
    {
     "data": {
      "text/plain": [
       "np.float64(1142441.0483756834)"
      ]
     },
     "execution_count": 9,
     "metadata": {},
     "output_type": "execute_result"
    }
   ],
   "source": [
    "# remove dilbit\n",
    "geomean.pop('Dilbit')\n",
    "volume.pop('Dilbit')\n",
    "volume_max.pop('Dilbit')\n",
    "water.pop('Dilbit')\n",
    "sfc.pop('Dilbit')\n",
    "beach.pop('Dilbit')\n",
    "combined_mass.pop('Dilbit')\n",
    "total_mass.pop('Dilbit')"
   ]
  },
  {
   "cell_type": "markdown",
   "id": "c7d8cf79-478b-49d7-932b-8152ad04d94b",
   "metadata": {
    "tags": []
   },
   "source": [
    "## Create metric for demonstrating persistence"
   ]
  },
  {
   "cell_type": "markdown",
   "id": "0f389963-d047-4c4d-b731-ed28d74615a1",
   "metadata": {},
   "source": [
    "#### initial\n",
    "- MBeached = (data['VolOilBeached'][1].item()*data['Density'][1].item()/\n",
    "     (1-data['VWaterContent'][1].item())*\n",
    "     (1-data['MWaterContent'][1].item()))\n",
    "- MInitial= data['MEvaporated'][1].item() + data['MDispersed'][1].item() + \n",
    "    data['MDissolved'][1].item() + data['MBio'][1].item() + \n",
    "    data['MassOil'][1].item() + MBeached\n",
    "#### final (remove values associated with bogus dissolution/evaporation/surface)\n",
    "- water_col = (df[oil]['MDispersed'].loc[df[oil]['MDissolved']>0] + \n",
    "        df[oil]['MDissolved'].loc[df[oil]['MDissolved']>0] + \n",
    "        df[oil]['MBio'].loc[df[oil]['MDissolved']>0])\n",
    "    \n",
    "    surface = df[oil]['MassOil'].loc[df[oil]['MDissolved']>0]\n",
    "    beached = df[oil]['MBeached'].loc[df[oil]['MDissolved']>0]\n",
    "    evaporated = df[oil]['MEvaporated'].loc[df[oil]['MDissolved']>0] "
   ]
  },
  {
   "cell_type": "markdown",
   "id": "a5d4f3a6-57dc-41c7-b61c-b524b7a9e1ef",
   "metadata": {},
   "source": [
    "#### Print out persist values for debugging"
   ]
  },
  {
   "cell_type": "code",
   "execution_count": 10,
   "id": "3d04f73b-ba24-4898-8e47-f96c607d6750",
   "metadata": {},
   "outputs": [
    {
     "name": "stdout",
     "output_type": "stream",
     "text": [
      "~~~~~~~~~~~~~~~~~~~~~~~~~~~~~~~~~~~~~~~~~~~~~~~~~~~~~~~~~~~~~~~~~~~\n",
      "~~~~~~\n",
      "ANS [64]\n",
      "~~~~~~\n",
      "*** water ***\n",
      "Series([], dtype: float64)\n",
      "*** sfc ***\n",
      "Series([], dtype: float64)\n",
      "*** beach ***\n",
      "Series([], dtype: float64)\n",
      "*** air ***\n",
      "Series([], dtype: float64)\n",
      "~~~~~~\n",
      "Bunker-C [3416]\n",
      "~~~~~~\n",
      "*** water ***\n",
      "Series([], dtype: float64)\n",
      "*** sfc ***\n",
      "Series([], dtype: float64)\n",
      "*** beach ***\n",
      "12      1.000278\n",
      "36      1.001835\n",
      "54      1.000715\n",
      "59      1.000048\n",
      "105     1.001154\n",
      "          ...   \n",
      "3350    1.000087\n",
      "3358    1.000458\n",
      "3372    1.000036\n",
      "3411    1.000062\n",
      "3412    1.000236\n",
      "Length: 129, dtype: float64\n",
      "*** air ***\n",
      "Series([], dtype: float64)\n",
      "~~~~~~\n",
      "Diesel [6352]\n",
      "~~~~~~\n",
      "*** water ***\n",
      "Series([], dtype: float64)\n",
      "*** sfc ***\n",
      "Series([], dtype: float64)\n",
      "*** beach ***\n",
      "Series([], dtype: float64)\n",
      "*** air ***\n",
      "Series([], dtype: float64)\n"
     ]
    }
   ],
   "source": [
    "# median value of the final mass (by category) over initial spill\n",
    "locations = ['water','sfc','beach','air']\n",
    "print('~~~~~~~~~~~~~~~~~~~~~~~~~~~~~~~~~~~~~~~~~~~~~~~~~~~~~~~~~~~~~~~~~~~')\n",
    "for oil in ['ANS','Bunker-C','Diesel']:\n",
    "    print('~~~~~~')\n",
    "    print(f'{oil} [{len(final[\"sfc\"][oil])}]')\n",
    "    print('~~~~~~')\n",
    "    for location in locations:\n",
    "        print(f'*** {location} ***')\n",
    "        pers_tmp = final[location][oil]/(initial[oil])\n",
    "        print(pers_tmp.loc[pers_tmp>=1])\n",
    "    "
   ]
  },
  {
   "cell_type": "markdown",
   "id": "7f716a3c-0233-4676-ac5e-41e18decca7c",
   "metadata": {},
   "source": [
    "#### take-away: Bunker beaching values are wonky.  Perhaps a reflection of the evaporation error that is now fixed.  "
   ]
  },
  {
   "cell_type": "markdown",
   "id": "ee0f9d36-7c79-43f5-92ce-f84f55cfb129",
   "metadata": {},
   "source": [
    "### Create dataframes of values for:\n",
    "- median\n",
    "- mean\n",
    "- stdev\n",
    "- min\n",
    "- max\n",
    "- quantiles (0.25, 0.50, 0.75)"
   ]
  },
  {
   "cell_type": "code",
   "execution_count": 11,
   "id": "b9fca2c5-3601-4b1e-aa81-226f5ff75105",
   "metadata": {
    "scrolled": true
   },
   "outputs": [
    {
     "name": "stdout",
     "output_type": "stream",
     "text": [
      "Calculating the following stats across persistence fraction\n",
      "|_ median\n",
      "    |_ ANS\n",
      "        |_ water\n",
      "        |_ sfc\n",
      "        |_ beach\n",
      "        |_ air\n",
      "    |_ Bunker-C\n",
      "        |_ water\n",
      "        |_ sfc\n",
      "        |_ beach\n",
      "        |_ air\n",
      "    |_ Diesel\n",
      "        |_ water\n",
      "        |_ sfc\n",
      "        |_ beach\n",
      "        |_ air\n",
      "|_ mean\n",
      "    |_ ANS\n",
      "        |_ water\n",
      "        |_ sfc\n",
      "        |_ beach\n",
      "        |_ air\n",
      "    |_ Bunker-C\n",
      "        |_ water\n",
      "        |_ sfc\n",
      "        |_ beach\n",
      "        |_ air\n",
      "    |_ Diesel\n",
      "        |_ water\n",
      "        |_ sfc\n",
      "        |_ beach\n",
      "        |_ air\n",
      "|_ std\n",
      "    |_ ANS\n",
      "        |_ water\n",
      "        |_ sfc\n",
      "        |_ beach\n",
      "        |_ air\n",
      "    |_ Bunker-C\n",
      "        |_ water\n",
      "        |_ sfc\n",
      "        |_ beach\n",
      "        |_ air\n",
      "    |_ Diesel\n",
      "        |_ water\n",
      "        |_ sfc\n",
      "        |_ beach\n",
      "        |_ air\n",
      "|_ min\n",
      "    |_ ANS\n",
      "        |_ water\n",
      "        |_ sfc\n",
      "        |_ beach\n",
      "        |_ air\n",
      "    |_ Bunker-C\n",
      "        |_ water\n",
      "        |_ sfc\n",
      "        |_ beach\n",
      "        |_ air\n",
      "    |_ Diesel\n",
      "        |_ water\n",
      "        |_ sfc\n",
      "        |_ beach\n",
      "        |_ air\n",
      "|_ max\n",
      "    |_ ANS\n",
      "        |_ water\n",
      "        |_ sfc\n",
      "        |_ beach\n",
      "        |_ air\n",
      "    |_ Bunker-C\n",
      "        |_ water\n",
      "        |_ sfc\n",
      "        |_ beach\n",
      "        |_ air\n",
      "    |_ Diesel\n",
      "        |_ water\n",
      "        |_ sfc\n",
      "        |_ beach\n",
      "        |_ air\n",
      "-------------------\n",
      "BUILDING DATAFRAMES\n",
      "-------------------\n"
     ]
    }
   ],
   "source": [
    "locations = ['water','sfc','beach','air']\n",
    "opperations = ['median','mean','std','min','max']\n",
    "job='median'\n",
    "getattr(np, job)([0, 2, 3])\n",
    "#np.median([0, 2, 3])\n",
    "persist = {}\n",
    "\n",
    "# Calculate Quantiles\n",
    "persist['Q1']={}\n",
    "persist['Q2']={}\n",
    "persist['Q3']={}\n",
    "for oil in ['ANS','Bunker-C','Diesel']:\n",
    "    persist['Q1'][oil]={}\n",
    "    persist['Q2'][oil]={}\n",
    "    persist['Q3'][oil]={}\n",
    "    for loc in locations:\n",
    "        #Quantile 0.25 (in percent form)\n",
    "        persist['Q1'][oil][loc]=100*np.quantile(\n",
    "            final[loc][oil]/(initial[oil]), .25)\n",
    "        #Quantile 0.5 (median, in percent form)\n",
    "        persist['Q2'][oil][loc]=100*np.quantile(\n",
    "            final[loc][oil]/(initial[oil]), .50)\n",
    "        #Quantile 0.75 (in percent form)\n",
    "        persist['Q3'][oil][loc]=100*np.quantile(\n",
    "            final[loc][oil]/(initial[oil]), .75)\n",
    "\n",
    "# Calculate other stats across persistence fractions\n",
    "print('Calculating the following stats across persistence fraction')\n",
    "for opp in opperations:\n",
    "    print(\"|_\", opp)\n",
    "    persist[opp]={}  \n",
    "    for oil in ['ANS','Bunker-C','Diesel']:\n",
    "        print(\"    |_\", oil)\n",
    "        persist[opp][oil]={}\n",
    "        for loc in locations:\n",
    "            print(\"        |_\", loc)\n",
    "            # final mass (by category) over initial spill\n",
    "            persist[opp][oil][loc]=getattr(np, opp)(\n",
    "                100*final[loc][oil]/(initial[oil])\n",
    "            )\n",
    "# Add Quantiles to opperations\n",
    "opperations = ['median','mean','std','min','max','Q1','Q2','Q3']\n",
    "persist_df={}\n",
    "print('-------------------')\n",
    "print('BUILDING DATAFRAMES')\n",
    "print('-------------------')\n",
    "for opp in opperations:\n",
    "#    print('\\n\\n \\_ ', opp)\n",
    "    persist_df[opp] = pd.DataFrame({\n",
    "        \"ANS\":[persist[opp][\"ANS\"][\"water\"], persist[opp][\"ANS\"][\"sfc\"], persist[opp][\"ANS\"][\"beach\"], persist[opp][\"ANS\"][\"air\"]],\n",
    "        \"Bunker-C\":[persist[opp][\"Bunker-C\"][\"water\"], persist[opp][\"Bunker-C\"][\"sfc\"], persist[opp][\"Bunker-C\"][\"beach\"], persist[opp][\"Bunker-C\"][\"air\"]],\n",
    "        \"Diesel\":[persist[opp][\"Diesel\"][\"water\"], persist[opp][\"Diesel\"][\"sfc\"], persist[opp][\"Diesel\"][\"beach\"], persist[opp][\"Diesel\"][\"air\"]]\n",
    "        }, \n",
    "        index=[\"water\", \"surface\", \"beach\", \"air\"]\n",
    "    )\n",
    "    persist_df[opp] = persist_df[opp].rename_axis(opp, axis=1)\n",
    " #   print(persist_df[opp])   "
   ]
  },
  {
   "cell_type": "code",
   "execution_count": null,
   "id": "25f8837e-d7b3-4fbd-94f3-f5ab83e4a626",
   "metadata": {},
   "outputs": [],
   "source": []
  },
  {
   "cell_type": "code",
   "execution_count": 12,
   "id": "996fba7c-fd36-4267-b5a2-46c4cbfdf736",
   "metadata": {},
   "outputs": [
    {
     "data": {
      "text/html": [
       "<div>\n",
       "<style scoped>\n",
       "    .dataframe tbody tr th:only-of-type {\n",
       "        vertical-align: middle;\n",
       "    }\n",
       "\n",
       "    .dataframe tbody tr th {\n",
       "        vertical-align: top;\n",
       "    }\n",
       "\n",
       "    .dataframe thead th {\n",
       "        text-align: right;\n",
       "    }\n",
       "</style>\n",
       "<table border=\"1\" class=\"dataframe\">\n",
       "  <thead>\n",
       "    <tr style=\"text-align: right;\">\n",
       "      <th></th>\n",
       "      <th>ANS</th>\n",
       "      <th>Bunker-C</th>\n",
       "      <th>Diesel</th>\n",
       "    </tr>\n",
       "  </thead>\n",
       "  <tbody>\n",
       "    <tr>\n",
       "      <th>water\\ncolumn</th>\n",
       "      <td>0.036296</td>\n",
       "      <td>0.000102</td>\n",
       "      <td>0.097653</td>\n",
       "    </tr>\n",
       "    <tr>\n",
       "      <th>water\\nsurface</th>\n",
       "      <td>0.655659</td>\n",
       "      <td>0.367823</td>\n",
       "      <td>0.074312</td>\n",
       "    </tr>\n",
       "    <tr>\n",
       "      <th>beach</th>\n",
       "      <td>78.109184</td>\n",
       "      <td>96.020866</td>\n",
       "      <td>67.812072</td>\n",
       "    </tr>\n",
       "    <tr>\n",
       "      <th>air</th>\n",
       "      <td>19.317904</td>\n",
       "      <td>1.163776</td>\n",
       "      <td>29.985719</td>\n",
       "    </tr>\n",
       "  </tbody>\n",
       "</table>\n",
       "</div>"
      ],
      "text/plain": [
       "                      ANS   Bunker-C     Diesel\n",
       "water\\ncolumn    0.036296   0.000102   0.097653\n",
       "water\\nsurface   0.655659   0.367823   0.074312\n",
       "beach           78.109184  96.020866  67.812072\n",
       "air             19.317904   1.163776  29.985719"
      ]
     },
     "execution_count": 12,
     "metadata": {},
     "output_type": "execute_result"
    }
   ],
   "source": [
    "plotdata = pd.DataFrame({\n",
    "    \"ANS\":[persist['median'][\"ANS\"][\"water\"], persist['median'][\"ANS\"][\"sfc\"], persist['median'][\"ANS\"][\"beach\"], persist['median'][\"ANS\"][\"air\"]],\n",
    "    \"Bunker-C\":[persist['median'][\"Bunker-C\"][\"water\"], persist['median'][\"Bunker-C\"][\"sfc\"], persist['median'][\"Bunker-C\"][\"beach\"], persist['median'][\"Bunker-C\"][\"air\"]],\n",
    "    \"Diesel\":[persist['median'][\"Diesel\"][\"water\"], persist['median'][\"Diesel\"][\"sfc\"], persist['median'][\"Diesel\"][\"beach\"], persist['median'][\"Diesel\"][\"air\"]]\n",
    "    }, \n",
    "    index=[\"water\\ncolumn\", \"water\\nsurface\", \"beach\", \"air\"]\n",
    ")\n",
    "plotdata"
   ]
  },
  {
   "cell_type": "code",
   "execution_count": 13,
   "id": "6582d97c-43d0-4a08-a71d-55756276be5c",
   "metadata": {},
   "outputs": [
    {
     "data": {
      "text/html": [
       "<div>\n",
       "<style scoped>\n",
       "    .dataframe tbody tr th:only-of-type {\n",
       "        vertical-align: middle;\n",
       "    }\n",
       "\n",
       "    .dataframe tbody tr th {\n",
       "        vertical-align: top;\n",
       "    }\n",
       "\n",
       "    .dataframe thead th {\n",
       "        text-align: right;\n",
       "    }\n",
       "</style>\n",
       "<table border=\"1\" class=\"dataframe\">\n",
       "  <thead>\n",
       "    <tr style=\"text-align: right;\">\n",
       "      <th>median</th>\n",
       "      <th>ANS</th>\n",
       "      <th>Bunker-C</th>\n",
       "      <th>Diesel</th>\n",
       "    </tr>\n",
       "  </thead>\n",
       "  <tbody>\n",
       "    <tr>\n",
       "      <th>water</th>\n",
       "      <td>0.036296</td>\n",
       "      <td>0.000102</td>\n",
       "      <td>0.097653</td>\n",
       "    </tr>\n",
       "    <tr>\n",
       "      <th>surface</th>\n",
       "      <td>0.655659</td>\n",
       "      <td>0.367823</td>\n",
       "      <td>0.074312</td>\n",
       "    </tr>\n",
       "    <tr>\n",
       "      <th>beach</th>\n",
       "      <td>78.109184</td>\n",
       "      <td>96.020866</td>\n",
       "      <td>67.812072</td>\n",
       "    </tr>\n",
       "    <tr>\n",
       "      <th>air</th>\n",
       "      <td>19.317904</td>\n",
       "      <td>1.163776</td>\n",
       "      <td>29.985719</td>\n",
       "    </tr>\n",
       "  </tbody>\n",
       "</table>\n",
       "</div>"
      ],
      "text/plain": [
       "median         ANS   Bunker-C     Diesel\n",
       "water     0.036296   0.000102   0.097653\n",
       "surface   0.655659   0.367823   0.074312\n",
       "beach    78.109184  96.020866  67.812072\n",
       "air      19.317904   1.163776  29.985719"
      ]
     },
     "execution_count": 13,
     "metadata": {},
     "output_type": "execute_result"
    }
   ],
   "source": [
    "persist_df['median']"
   ]
  },
  {
   "cell_type": "markdown",
   "id": "ed84a24c-7789-4fbe-98c3-184ecd44db79",
   "metadata": {},
   "source": [
    "### create error bars from Quantiles"
   ]
  },
  {
   "cell_type": "code",
   "execution_count": 14,
   "id": "c41e95ea-6bdf-4aa5-b6db-493a033412c7",
   "metadata": {},
   "outputs": [],
   "source": [
    "error_min = [[persist['Q1'][\"ANS\"][\"water\"],persist['Q1'][\"ANS\"][\"sfc\"],persist['Q1'][\"ANS\"][\"beach\"],persist['Q1'][\"ANS\"][\"air\"]],\n",
    "         [persist['Q1'][\"Bunker-C\"][\"water\"],persist['Q1'][\"Bunker-C\"][\"sfc\"],persist['Q1'][\"Bunker-C\"][\"beach\"],persist['Q1'][\"Bunker-C\"][\"air\"]],\n",
    "         [persist['Q1'][\"Diesel\"][\"water\"],persist['Q1'][\"Diesel\"][\"sfc\"],persist['Q1'][\"Diesel\"][\"beach\"],persist['Q1'][\"Diesel\"][\"air\"]]\n",
    "]\n",
    "\n",
    "error_max = [[persist['Q3'][\"ANS\"][\"water\"],persist['Q3'][\"ANS\"][\"sfc\"],persist['Q3'][\"ANS\"][\"beach\"],persist['Q3'][\"ANS\"][\"air\"]],\n",
    "         [persist['Q3'][\"Bunker-C\"][\"water\"],persist['Q3'][\"Bunker-C\"][\"sfc\"],persist['Q3'][\"Bunker-C\"][\"beach\"],persist['Q3'][\"Bunker-C\"][\"air\"]],\n",
    "         [persist['Q3'][\"Diesel\"][\"water\"],persist['Q3'][\"Diesel\"][\"sfc\"],persist['Q3'][\"Diesel\"][\"beach\"],persist['Q3'][\"Diesel\"][\"air\"]]\n",
    "]\n",
    "# minimum\n",
    "mindf = pd.DataFrame(np.transpose(error_min))\n",
    "mindf=mindf.rename(\n",
    "    columns={0:'ANS',1:'Bunker-C',2:'Diesel'},\n",
    "    index={0:\"water\\ncolumn\", 1:\"water\\nsurface\", 2:\"beach\", 3:\"air\"}\n",
    ")\n",
    "# maximum\n",
    "maxdf = pd.DataFrame(np.transpose(error_max))\n",
    "maxdf=maxdf.rename(\n",
    "    columns={0:'ANS',1:'Bunker-C',2:'Diesel'},\n",
    "    index={0:\"water\\ncolumn\", 1:\"water\\nsurface\", 2:\"beach\", 3:\"air\"}\n",
    ")\n",
    "error_df={}\n",
    "error_df['min']=plotdata-mindf\n",
    "error_df['max']=maxdf-plotdata\n",
    "error_min = [error_df['min']['ANS'].to_list(),error_df['min']['Bunker-C'].to_list(),error_df['min']['Diesel'].to_list()]\n",
    "error_max = [error_df['max']['ANS'].to_list(),error_df['max']['Bunker-C'].to_list(),error_df['max']['Diesel'].to_list()]"
   ]
  },
  {
   "cell_type": "markdown",
   "id": "51251405-ddf0-4617-881e-d96a90341cc8",
   "metadata": {
    "tags": []
   },
   "source": [
    "### print Bunker-C values "
   ]
  },
  {
   "cell_type": "code",
   "execution_count": 15,
   "id": "d3965342-62a6-45b7-9169-f198c0d39a7c",
   "metadata": {},
   "outputs": [
    {
     "name": "stdout",
     "output_type": "stream",
     "text": [
      "Bunker-C:\n",
      " \t Beaching median:  96.0208663989807\n",
      "\t Quantile 0.25:  84.78657919399211\n",
      "\t Quantile 0.50:  96.0208663989807\n",
      "\t Quantile 0.75:  99.40378324298737\n"
     ]
    }
   ],
   "source": [
    "print('Bunker-C:\\n \\t Beaching median: ', persist['median']['Bunker-C']['beach'])\n",
    "print('\\t Quantile 0.25: ', persist['Q1']['Bunker-C']['beach'])\n",
    "print('\\t Quantile 0.50: ', persist['Q2']['Bunker-C']['beach'])\n",
    "print('\\t Quantile 0.75: ', persist['Q3']['Bunker-C']['beach'])"
   ]
  },
  {
   "cell_type": "code",
   "execution_count": 16,
   "id": "20b833eb-22ff-40bf-98b9-1fde5e81d261",
   "metadata": {},
   "outputs": [
    {
     "data": {
      "text/plain": [
       "{'min':                       ANS   Bunker-C     Diesel\n",
       " water\\ncolumn    0.021132   0.000078   0.049323\n",
       " water\\nsurface   0.636309   0.342025   0.066587\n",
       " beach           18.150134  11.234287  17.004786\n",
       " air              1.693576   1.163776   8.501125,\n",
       " 'max':                      ANS  Bunker-C     Diesel\n",
       " water\\ncolumn   0.250454  0.002384   1.299795\n",
       " water\\nsurface  7.583008  5.615564   0.555020\n",
       " beach           3.395839  3.382917   9.776229\n",
       " air             1.287698  3.260460  11.213498}"
      ]
     },
     "execution_count": 16,
     "metadata": {},
     "output_type": "execute_result"
    }
   ],
   "source": [
    "error_df"
   ]
  },
  {
   "cell_type": "code",
   "execution_count": 17,
   "id": "8b6de801-a628-4a0c-9c62-387451972633",
   "metadata": {},
   "outputs": [
    {
     "data": {
      "text/plain": [
       "array([[2.11317052e-02, 6.36309089e-01, 1.81501341e+01, 1.69357583e+00],\n",
       "       [7.76564937e-05, 3.42025100e-01, 1.12342872e+01, 1.16377621e+00],\n",
       "       [4.93230035e-02, 6.65865861e-02, 1.70047860e+01, 8.50112465e+00],\n",
       "       [2.50453882e-01, 7.58300837e+00, 3.39583924e+00, 1.28769846e+00],\n",
       "       [2.38443709e-03, 5.61556447e+00, 3.38291684e+00, 3.26046012e+00],\n",
       "       [1.29979525e+00, 5.55019599e-01, 9.77622878e+00, 1.12134977e+01]])"
      ]
     },
     "execution_count": 17,
     "metadata": {},
     "output_type": "execute_result"
    }
   ],
   "source": [
    "# yerr ordered as:\n",
    "# Row1: ANS min error\n",
    "# Row2: Bunker min error\n",
    "# Row3: Diesel min error\n",
    "# Row4: ANS max error\n",
    "# Row5: Bunker max error\n",
    "# Row6: Diesel max error\n",
    "yerr=np.append(error_min,error_max, axis=0)\n",
    "yerr"
   ]
  },
  {
   "cell_type": "markdown",
   "id": "2b9495de-4fd0-4d5d-8f15-1dab72077dcd",
   "metadata": {},
   "source": [
    "#### Create a (2,3,4) errorbar"
   ]
  },
  {
   "cell_type": "code",
   "execution_count": 18,
   "id": "836d092f-2b4a-4e1f-9eb6-f9be4d20b374",
   "metadata": {},
   "outputs": [],
   "source": [
    "# reorganize that above array so that it's in order of:\n",
    "# Row1: ANS min error\n",
    "# Row2: ANS max error\n",
    "# Row3: Bunker min error\n",
    "# Row4: Bunker max error\n",
    "# Row5: Diesel min error\n",
    "# Row6: Diesel max error\n",
    "yerr_reorg = np.array([([6.69744288e-03, 4.27131747e-01, 3.13163776e+00, 1.17458229e+00],\n",
    "                       [4.93247401e-02, 2.35248444e+00, 1.35385672e+00, 1.31239182e+00]),\n",
    "                       ([1.18544786e-04, 8.71882908e-01, 1.01955780e+01, 1.18542679e+00],\n",
    "                       [4.23930479e-03, 8.33432378e+00, 3.45650206e+00, 4.03615522e+00]),\n",
    "                       ([1.27599696e-01, 9.37273734e-02, 1.97156811e+01, 1.01440719e+01],\n",
    "                       [4.37506471e+00, 7.95443542e-01, 1.27226442e+01, 1.12409368e+01])])"
   ]
  },
  {
   "cell_type": "code",
   "execution_count": null,
   "id": "06e3619f-4696-4802-b3fb-39236a053745",
   "metadata": {},
   "outputs": [],
   "source": []
  },
  {
   "cell_type": "code",
   "execution_count": null,
   "id": "5a5b30b1-3992-4416-bc72-41743e4a0b0f",
   "metadata": {},
   "outputs": [],
   "source": []
  },
  {
   "cell_type": "code",
   "execution_count": 19,
   "id": "93653d81-2f52-4209-856d-f3757cd6d694",
   "metadata": {},
   "outputs": [
    {
     "data": {
      "image/png": "[encoded data removed]",
      "text/plain": [
       "<Figure size 1500x1500 with 1 Axes>"
      ]
     },
     "metadata": {},
     "output_type": "display_data"
    }
   ],
   "source": [
    "# bar colors\n",
    "ans_color = graphics.oil_colors_dict[\"ANS\"]\n",
    "bunker_color = graphics.oil_colors_dict[\"Bunker-C\"]\n",
    "diesel_color = graphics.oil_colors_dict[\"Diesel\"]\n",
    "\n",
    "\n",
    "fig, ax = plt.subplots(nrows=1, ncols=1, figsize=(5, 5),\n",
    "                       gridspec_kw={\n",
    "                           'width_ratios': [1],\n",
    "                           'height_ratios': [1],\n",
    "                       'wspace': 0.4,\n",
    "                       'hspace': 0.2})\n",
    "persist_df['median'].plot(ax=ax,\n",
    "    kind=\"bar\",\n",
    "    color=[ans_color, bunker_color, diesel_color],\n",
    "    legend=False,          \n",
    "    yerr=yerr_reorg, \n",
    "    error_kw=dict(lw=3, capsize=4, capthick=3),\n",
    "    ecolor='lightsteelblue'\n",
    ")\n",
    "ax.set_ylabel(\"Fate (%)\")\n",
    "ax.legend(bbox_to_anchor=(1.5, 1), loc='upper right')\n",
    "ax.set_ylim(0,100)\n",
    "ax.set_yticks([0, 20, 40, 60, 80, 100])\n",
    "ax.set_xticklabels(\n",
    "    [\"water\\ncolumn\", \"water\\nsurface\", \"beach\", \"air\"],\n",
    "    rotation=45\n",
    ")\n",
    "\n",
    "plt.savefig(graphics_dir/'Part2_Figure3_Fate_MedianErr.png')"
   ]
  }
 ],
 "metadata": {
  "kernelspec": {
   "display_name": "Python 3 (ipykernel)",
   "language": "python",
   "name": "python3"
  },
  "language_info": {
   "codemirror_mode": {
    "name": "ipython",
    "version": 3
   },
   "file_extension": ".py",
   "mimetype": "text/x-python",
   "name": "python",
   "nbconvert_exporter": "python",
   "pygments_lexer": "ipython3",
   "version": "3.13.5"
  }
 },
 "nbformat": 4,
 "nbformat_minor": 5
}
