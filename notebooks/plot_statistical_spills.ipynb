{
 "cells": [
  {
   "cell_type": "code",
   "execution_count": null,
   "id": "c39a39e4-7b95-4c80-9924-519e87d6a9aa",
   "metadata": {},
   "outputs": [],
   "source": [
    "import os\n",
    "import numpy\n",
    "import pandas\n",
    "import xarray\n",
    "import netCDF4 as nc\n",
    "import cartopy.crs\n",
    "import cmocean\n",
    "import rioxarray\n",
    "from array import *\n",
    "from cmocean import cm as cmo\n",
    "from glob import glob\n",
    "from cartopy import crs,feature\n",
    "import matplotlib as mpl\n",
    "from matplotlib import pyplot as plt, patches, colors\n",
    "from mpl_toolkits.axes_grid1 import make_axes_locatable\n",
    "from pathlib import Path\n",
    "# used to make subplot labels consistent between figures\n",
    "from matplotlib.offsetbox import AnchoredText\n",
    "#from salishsea_tools import geo_tools, tidetools"
   ]
  },
  {
   "cell_type": "code",
   "execution_count": null,
   "id": "e4e1038a-3081-49dc-b405-d9473c1e80b2",
   "metadata": {},
   "outputs": [],
   "source": [
    "graphics_dir = Path('/ocean/rmueller/MIDOSS/graphics/')\n",
    "geotiff_directory = Path('/data/MIDOSS/geotiffs')\n",
    "# larger, presentation-size graphics require different xy text specifications\n",
    "graphics_size='large'\n",
    "if graphics_size=='large':\n",
    "    # graphics style\n",
    "    plt.style.use(r\"../../style_templates/meopar2022_matplotlibrc.template\")\n",
    "    #plt.style.use(r\"../../style_templates/general_matplotlibrc.template\")\n",
    "\n",
    "# mapping specifications\n",
    "rotated_crs = cartopy.crs.RotatedPole(pole_longitude=120.0, pole_latitude=63.75)\n",
    "plain_crs = cartopy.crs.PlateCarree()\n",
    "# linewidth for coast/rivers\n",
    "lw=0.3\n",
    "# reducd dpi to make smaller graphics\n",
    "custom_dpi=600"
   ]
  },
  {
   "cell_type": "code",
   "execution_count": null,
   "id": "ae8f3b75-c2a9-4efb-9a37-cf5387a0dd91",
   "metadata": {},
   "outputs": [],
   "source": [
    "mask = xarray.open_dataset('/data/bmoorema/MEOPAR/grid/mesh_mask201702.nc')\n",
    "coords = xarray.open_dataset('/data/bmoorema/MEOPAR/grid/coordinates_seagrid_SalishSea201702.nc', decode_times=False)\n",
    "bathy = xarray.open_dataset('/data/bmoorema/MEOPAR/grid/bathymetry_201702.nc')\n",
    "spills = pandas.read_csv('/data/sallen/results/MIDOSS/Monte_Carlo/northern_strait.csv')\n",
    "\n",
    "# Load ETOPO1 data set\n",
    "topo = xarray.open_dataset('/ocean/bmoorema/research/MEOPAR/analysis-ben/data/ETOPO1_Bed_g_gmt4.grd')\n",
    "\n",
    "# Crop to Salish Sea\n",
    "extent = [-126.5, -121.2, 46.8, 51.2]\n",
    "topo_salishsea = topo.sel(x=slice(*extent[:2]), y=slice(*extent[2:]))\n",
    "lon, lat = [coords[var][0, ...].values for var in ('glamt', 'gphit')]\n",
    "#lon, lat, depth = [topo_salishsea[var].values for var in ('x', 'y', 'z')]\n",
    "tmask = mask.tmask[0, 0, ...].values"
   ]
  }
 ],
 "metadata": {
  "kernelspec": {
   "display_name": "Python 3 (ipykernel)",
   "language": "python",
   "name": "python3"
  },
  "language_info": {
   "codemirror_mode": {
    "name": "ipython",
    "version": 3
   },
   "file_extension": ".py",
   "mimetype": "text/x-python",
   "name": "python",
   "nbconvert_exporter": "python",
   "pygments_lexer": "ipython3",
   "version": "3.10.14"
  }
 },
 "nbformat": 4,
 "nbformat_minor": 5
}
