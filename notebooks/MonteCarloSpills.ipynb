{
 "cells": [
  {
   "cell_type": "markdown",
   "id": "bb20827c-f278-4be6-934d-3f48d9f8f3ec",
   "metadata": {},
   "source": [
    "## Evaluate different sets of 10,000 monte carlo spills \n",
    "\n",
    "Package requirements are included in ../environment.yaml.  Install in the upper-level directory using:\n",
    "```\n",
    "$ conda env create -f ./environment.yaml\n",
    "```\n",
    "                                                                               \n",
    "To activate this environment, use \n",
    "```                  \n",
    "$ conda activate midoss_env\n",
    "```\n",
    " To deactivate an active environment, use\n",
    "```\n",
    "$ conda deactivate\n",
    "```\n",
    "\n",
    "Files are loaded from the dataset archive, with both the dataset archive and this code archive in the same folder, i.e.:\n",
    "\n",
    "- \\path\\to\\root\\folder\\\n",
    "   - MuellerEtAl_MIDOSS_datasets\n",
    "   - MuellerEtAl_MIDOSS_code [this repository]"
   ]
  },
  {
   "cell_type": "code",
   "execution_count": 1,
   "id": "6587f179-2b10-4c8d-b99d-8acb44e04f3b",
   "metadata": {},
   "outputs": [],
   "source": [
    "import os\n",
    "from glob import glob\n",
    "import pandas as pd\n",
    "import numpy as np\n",
    "from pathlib import Path"
   ]
  },
  {
   "cell_type": "markdown",
   "id": "15c52376-3462-4457-83a4-4647323b9859",
   "metadata": {},
   "source": [
    "### Load spills files"
   ]
  },
  {
   "cell_type": "code",
   "execution_count": 2,
   "id": "507c37b7-d92f-41f2-9f74-297a1485feb1",
   "metadata": {},
   "outputs": [
    {
     "data": {
      "text/plain": [
       "'../../MuellerEtAl_MIDOSS_datasets/spill_files/MIDOSS_MonteCarlo_spills.csv'"
      ]
     },
     "execution_count": 2,
     "metadata": {},
     "output_type": "execute_result"
    }
   ],
   "source": [
    "data_directory = Path(f'../../MuellerEtAl_MIDOSS_datasets/spill_files')\n",
    "# create list of spill files to plot/evaluate\n",
    "filenames = sorted(glob(os.path.join(data_directory,\"*.csv\")))\n",
    "# remove MIDOSS_MonteCarlo_spills.csv from list of 10,000 spills files\n",
    "filenames.pop(0)"
   ]
  },
  {
   "cell_type": "code",
   "execution_count": 3,
   "id": "3fb11c7c-c02e-449f-95d6-b508e2a20a32",
   "metadata": {},
   "outputs": [
    {
     "name": "stdout",
     "output_type": "stream",
     "text": [
      "0 ../../MuellerEtAl_MIDOSS_datasets/spill_files/SalishSea_oil_spills_1.csv\n",
      "1 ../../MuellerEtAl_MIDOSS_datasets/spill_files/SalishSea_oil_spills_2.csv\n",
      "2 ../../MuellerEtAl_MIDOSS_datasets/spill_files/SalishSea_oil_spills_3.csv\n",
      "3 ../../MuellerEtAl_MIDOSS_datasets/spill_files/SalishSea_oil_spills_4.csv\n",
      "4 ../../MuellerEtAl_MIDOSS_datasets/spill_files/SalishSea_oil_spills_5.csv\n",
      "5 ../../MuellerEtAl_MIDOSS_datasets/spill_files/SalishSea_oil_spills_6.csv\n",
      "6 ../../MuellerEtAl_MIDOSS_datasets/spill_files/SalishSea_oil_spills_7.csv\n",
      "7 ../../MuellerEtAl_MIDOSS_datasets/spill_files/SalishSea_oil_spills_8.csv\n",
      "8 ../../MuellerEtAl_MIDOSS_datasets/spill_files/SalishSea_oil_spills_9.csv\n"
     ]
    }
   ],
   "source": [
    "df={}\n",
    "for index,fn in enumerate(filenames):\n",
    "    print(index,fn)\n",
    "    df[index] = pd.read_csv(fn)\n",
    "    # rename lagrangian files as oil types (for plotting)\n",
    "    df[index]['Lagrangian_template'] = df[index]['Lagrangian_template'].replace(\n",
    "        ['Lagrangian_akns.dat','Lagrangian_bunker.dat',\n",
    "             'Lagrangian_diesel.dat','Lagrangian_gas.dat',\n",
    "             'Lagrangian_jet.dat','Lagrangian_dilbit.dat',\n",
    "             'Lagrangian_other.dat'], \n",
    "        ['ANS','Bunker-C','Diesel','Gasoline',\n",
    "             'Jet Fuel', 'Dilbit', 'Other (Bunker-C)']\n",
    "    )\n",
    "    if index == 0:\n",
    "        df_combined = df[index].copy()\n",
    "    else:\n",
    "        df_combined = pd.concat([df_combined, df[index]])"
   ]
  },
  {
   "cell_type": "markdown",
   "id": "4e51bb8b-bbf9-4036-92fa-2336d464d50f",
   "metadata": {},
   "source": [
    "### Count spills by oil type \n",
    "Compare total count to the spill file used for this study `SalishSea_oil_spills_4.csv`"
   ]
  },
  {
   "cell_type": "code",
   "execution_count": 4,
   "id": "bcadb1fc-2c36-447e-b96e-be401e83ae76",
   "metadata": {},
   "outputs": [],
   "source": [
    "count_df = df_combined[['Lagrangian_template','spill_date_hour']].groupby('Lagrangian_template').count().rename(columns={'spill_date_hour':'count'})\n",
    "count_df['percent'] = [100*count_df['count'].iloc[idx]/count_df['count'].sum() for idx in range(len(count_df['count']))]\n",
    "count_df['this_study_count']=df[3][['Lagrangian_template','spill_date_hour']].groupby('Lagrangian_template').count().rename(columns={'spill_date_hour':'count'})\n",
    "count_df['this_study_percent'] = [100*count_df['this_study_count'].iloc[idx]/count_df['this_study_count'].sum() for idx in range(len(count_df['this_study_count']))]"
   ]
  },
  {
   "cell_type": "code",
   "execution_count": 5,
   "id": "874df893-9ddb-498d-821c-c4c145414727",
   "metadata": {},
   "outputs": [
    {
     "data": {
      "text/html": [
       "<div>\n",
       "<style scoped>\n",
       "    .dataframe tbody tr th:only-of-type {\n",
       "        vertical-align: middle;\n",
       "    }\n",
       "\n",
       "    .dataframe tbody tr th {\n",
       "        vertical-align: top;\n",
       "    }\n",
       "\n",
       "    .dataframe thead th {\n",
       "        text-align: right;\n",
       "    }\n",
       "</style>\n",
       "<table border=\"1\" class=\"dataframe\">\n",
       "  <thead>\n",
       "    <tr style=\"text-align: right;\">\n",
       "      <th></th>\n",
       "      <th>count</th>\n",
       "      <th>percent</th>\n",
       "      <th>this_study_count</th>\n",
       "      <th>this_study_percent</th>\n",
       "    </tr>\n",
       "    <tr>\n",
       "      <th>Lagrangian_template</th>\n",
       "      <th></th>\n",
       "      <th></th>\n",
       "      <th></th>\n",
       "      <th></th>\n",
       "    </tr>\n",
       "  </thead>\n",
       "  <tbody>\n",
       "    <tr>\n",
       "      <th>ANS</th>\n",
       "      <td>520</td>\n",
       "      <td>0.577778</td>\n",
       "      <td>66</td>\n",
       "      <td>0.66</td>\n",
       "    </tr>\n",
       "    <tr>\n",
       "      <th>Bunker-C</th>\n",
       "      <td>30403</td>\n",
       "      <td>33.781111</td>\n",
       "      <td>3409</td>\n",
       "      <td>34.09</td>\n",
       "    </tr>\n",
       "    <tr>\n",
       "      <th>Diesel</th>\n",
       "      <td>57491</td>\n",
       "      <td>63.878889</td>\n",
       "      <td>6353</td>\n",
       "      <td>63.53</td>\n",
       "    </tr>\n",
       "    <tr>\n",
       "      <th>Dilbit</th>\n",
       "      <td>39</td>\n",
       "      <td>0.043333</td>\n",
       "      <td>1</td>\n",
       "      <td>0.01</td>\n",
       "    </tr>\n",
       "    <tr>\n",
       "      <th>Gasoline</th>\n",
       "      <td>671</td>\n",
       "      <td>0.745556</td>\n",
       "      <td>76</td>\n",
       "      <td>0.76</td>\n",
       "    </tr>\n",
       "    <tr>\n",
       "      <th>Jet Fuel</th>\n",
       "      <td>212</td>\n",
       "      <td>0.235556</td>\n",
       "      <td>26</td>\n",
       "      <td>0.26</td>\n",
       "    </tr>\n",
       "    <tr>\n",
       "      <th>Other (Bunker-C)</th>\n",
       "      <td>664</td>\n",
       "      <td>0.737778</td>\n",
       "      <td>69</td>\n",
       "      <td>0.69</td>\n",
       "    </tr>\n",
       "  </tbody>\n",
       "</table>\n",
       "</div>"
      ],
      "text/plain": [
       "                     count    percent  this_study_count  this_study_percent\n",
       "Lagrangian_template                                                        \n",
       "ANS                    520   0.577778                66                0.66\n",
       "Bunker-C             30403  33.781111              3409               34.09\n",
       "Diesel               57491  63.878889              6353               63.53\n",
       "Dilbit                  39   0.043333                 1                0.01\n",
       "Gasoline               671   0.745556                76                0.76\n",
       "Jet Fuel               212   0.235556                26                0.26\n",
       "Other (Bunker-C)       664   0.737778                69                0.69"
      ]
     },
     "execution_count": 5,
     "metadata": {},
     "output_type": "execute_result"
    }
   ],
   "source": [
    "count_df"
   ]
  },
  {
   "cell_type": "markdown",
   "id": "b04518df-8982-47cf-a1d9-c1cc5d5e9ffb",
   "metadata": {},
   "source": [
    "# Repeat the above but only include spills > 1 L"
   ]
  },
  {
   "cell_type": "code",
   "execution_count": 6,
   "id": "6ff02b9d-09b6-4f5e-83a4-4b48e72f1873",
   "metadata": {},
   "outputs": [],
   "source": [
    "## All 90,000 spills\n",
    "count_gt1_df = df_combined.loc[\n",
    "    (df_combined['spill_volume']>1)\n",
    "][['Lagrangian_template','spill_date_hour']].groupby('Lagrangian_template').count().rename(columns={'spill_date_hour':'count'})\n",
    "count_gt1_df['percent'] = [100*count_gt1_df['count'].iloc[idx]/count_gt1_df['count'].sum() for idx in range(len(count_gt1_df['count']))]\n",
    "count_gt1_df['this_study_count'] = df[3].loc[\n",
    "    (df[3]['spill_volume']>1)][['Lagrangian_template','spill_date_hour']].groupby(\n",
    "    'Lagrangian_template').count().rename(columns={'spill_date_hour':'count'})\n",
    "count_gt1_df['this_study_percent'] = [\n",
    "    100*count_gt1_df['this_study_count'].iloc[idx]/count_gt1_df['this_study_count'].sum() for idx in range(len(count_gt1_df['this_study_count']))]"
   ]
  },
  {
   "cell_type": "code",
   "execution_count": 7,
   "id": "9cd57d59-1568-4a46-9925-aef44ba8264e",
   "metadata": {},
   "outputs": [
    {
     "data": {
      "text/html": [
       "<div>\n",
       "<style scoped>\n",
       "    .dataframe tbody tr th:only-of-type {\n",
       "        vertical-align: middle;\n",
       "    }\n",
       "\n",
       "    .dataframe tbody tr th {\n",
       "        vertical-align: top;\n",
       "    }\n",
       "\n",
       "    .dataframe thead th {\n",
       "        text-align: right;\n",
       "    }\n",
       "</style>\n",
       "<table border=\"1\" class=\"dataframe\">\n",
       "  <thead>\n",
       "    <tr style=\"text-align: right;\">\n",
       "      <th></th>\n",
       "      <th>count</th>\n",
       "      <th>percent</th>\n",
       "      <th>this_study_count</th>\n",
       "      <th>this_study_percent</th>\n",
       "    </tr>\n",
       "    <tr>\n",
       "      <th>Lagrangian_template</th>\n",
       "      <th></th>\n",
       "      <th></th>\n",
       "      <th></th>\n",
       "      <th></th>\n",
       "    </tr>\n",
       "  </thead>\n",
       "  <tbody>\n",
       "    <tr>\n",
       "      <th>ANS</th>\n",
       "      <td>520</td>\n",
       "      <td>0.583202</td>\n",
       "      <td>66</td>\n",
       "      <td>0.665390</td>\n",
       "    </tr>\n",
       "    <tr>\n",
       "      <th>Bunker-C</th>\n",
       "      <td>30154</td>\n",
       "      <td>33.818961</td>\n",
       "      <td>3378</td>\n",
       "      <td>34.055852</td>\n",
       "    </tr>\n",
       "    <tr>\n",
       "      <th>Diesel</th>\n",
       "      <td>56903</td>\n",
       "      <td>63.819073</td>\n",
       "      <td>6303</td>\n",
       "      <td>63.544712</td>\n",
       "    </tr>\n",
       "    <tr>\n",
       "      <th>Dilbit</th>\n",
       "      <td>39</td>\n",
       "      <td>0.043740</td>\n",
       "      <td>1</td>\n",
       "      <td>0.010082</td>\n",
       "    </tr>\n",
       "    <tr>\n",
       "      <th>Gasoline</th>\n",
       "      <td>671</td>\n",
       "      <td>0.752554</td>\n",
       "      <td>76</td>\n",
       "      <td>0.766206</td>\n",
       "    </tr>\n",
       "    <tr>\n",
       "      <th>Jet Fuel</th>\n",
       "      <td>212</td>\n",
       "      <td>0.237767</td>\n",
       "      <td>26</td>\n",
       "      <td>0.262123</td>\n",
       "    </tr>\n",
       "    <tr>\n",
       "      <th>Other (Bunker-C)</th>\n",
       "      <td>664</td>\n",
       "      <td>0.744704</td>\n",
       "      <td>69</td>\n",
       "      <td>0.695635</td>\n",
       "    </tr>\n",
       "  </tbody>\n",
       "</table>\n",
       "</div>"
      ],
      "text/plain": [
       "                     count    percent  this_study_count  this_study_percent\n",
       "Lagrangian_template                                                        \n",
       "ANS                    520   0.583202                66            0.665390\n",
       "Bunker-C             30154  33.818961              3378           34.055852\n",
       "Diesel               56903  63.819073              6303           63.544712\n",
       "Dilbit                  39   0.043740                 1            0.010082\n",
       "Gasoline               671   0.752554                76            0.766206\n",
       "Jet Fuel               212   0.237767                26            0.262123\n",
       "Other (Bunker-C)       664   0.744704                69            0.695635"
      ]
     },
     "execution_count": 7,
     "metadata": {},
     "output_type": "execute_result"
    }
   ],
   "source": [
    "count_gt1_df"
   ]
  }
 ],
 "metadata": {
  "kernelspec": {
   "display_name": "Python 3 (ipykernel)",
   "language": "python",
   "name": "python3"
  },
  "language_info": {
   "codemirror_mode": {
    "name": "ipython",
    "version": 3
   },
   "file_extension": ".py",
   "mimetype": "text/x-python",
   "name": "python",
   "nbconvert_exporter": "python",
   "pygments_lexer": "ipython3",
   "version": "3.13.5"
  }
 },
 "nbformat": 4,
 "nbformat_minor": 5
}
