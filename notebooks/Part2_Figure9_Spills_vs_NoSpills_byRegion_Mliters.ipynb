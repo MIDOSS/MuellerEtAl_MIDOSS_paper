{
 "cells": [
  {
   "cell_type": "markdown",
   "id": "1d7cb061-6edc-421f-8316-9d75eca3a720",
   "metadata": {
    "tags": []
   },
   "source": [
    "---\n",
    "# Part 2, Figure 9\n",
    "Plot spill locations relavent to regional impact.\n",
    "**I broke this code when tidying up for publication and need to fix**\n",
    "\n",
    "---\n",
    "\n",
    "Spill files generated on [Digital Research Alliance of Canada](https://www.google.com/url?sa=t&source=web&rct=j&opi=89978449&url=https://alliancecan.ca/en&ved=2ahUKEwi5npbTx86OAxU-CTQIHbQPDOsQFnoECA8QAQ&usg=AOvVaw08Yp1H1fiIsvct5I2kJu1_) HPC using `spillLocationsByImpactRegion.ipynb` have been archived in `aggregated_spills_output/SpillLocationImpacts`  folder of [FRDR data repository](https://doi.org/10.20383/103.01353).\n",
    "\n",
    "```\n",
    "$ conda env create -f ./environment.yaml\n",
    "```\n",
    "                                                                               \n",
    "To activate this environment, use \n",
    "```                  \n",
    "$ conda activate midoss_env\n",
    "```\n",
    " To deactivate an active environment, use\n",
    "```\n",
    "$ conda deactivate\n",
    "```\n",
    "\n",
    "Files are loaded from the dataset archive, with both the dataset archive and this code archive in the same folder, i.e.:\n",
    "\n",
    "- \\path\\to\\root\\folder\\\n",
    "   - MuellerEtAl_MIDOSS_datasets\n",
    "   - MuellerEtAl_MIDOSS_code [this repository]\n"
   ]
  },
  {
   "cell_type": "code",
   "execution_count": 1,
   "id": "2646d3c6-4291-408a-b099-826357c43806",
   "metadata": {},
   "outputs": [],
   "source": [
    "import os\n",
    "import sys\n",
    "from pathlib import Path\n",
    "import yaml\n",
    "import numpy\n",
    "import pandas\n",
    "import xarray \n",
    "import netCDF4 as nc\n",
    "from cartopy import crs,feature\n",
    "#import h5netcdf\n",
    "from datetime import datetime\n",
    "from datetime import date\n",
    "from glob import glob\n",
    "import time\n",
    "import matplotlib.pyplot as plt\n",
    "from matplotlib import pyplot as plt, patches, colors\n",
    "import matplotlib as mpl\n",
    "from matplotlib.offsetbox import AnchoredText"
   ]
  },
  {
   "cell_type": "code",
   "execution_count": 2,
   "id": "233f02d2-715f-40df-929f-446179f88af6",
   "metadata": {},
   "outputs": [],
   "source": [
    "# mapping specifications\n",
    "import cartopy\n",
    "rotated_crs = cartopy.crs.RotatedPole(pole_longitude=120.0, pole_latitude=63.75)\n",
    "plain_crs = cartopy.crs.PlateCarree()"
   ]
  },
  {
   "cell_type": "code",
   "execution_count": 3,
   "id": "3d15cbd8-7e40-42a3-bf7d-2b65668769d5",
   "metadata": {},
   "outputs": [
    {
     "data": {
      "text/plain": [
       "(898, 398)"
      ]
     },
     "execution_count": 3,
     "metadata": {},
     "output_type": "execute_result"
    }
   ],
   "source": [
    "# define directory paths\n",
    "graphics_directory = Path('../')\n",
    "\n",
    "# Aggregated spills files (created on Digital Alliance HPC)\n",
    "spill_file_dir = Path('../../MuellerEtAl_MIDOSS_datasets/aggregated_spills_output/SpillLocationImpacts')\n",
    "\n",
    "# SalishSeaCast shoreline mask and grid\n",
    "mesh_mask = xarray.open_dataset(\"https://salishsea.eos.ubc.ca/erddap/griddap/ubcSSn2DMeshMaskV21-08\")\n",
    "mask = mesh_mask.tmaskutil\n",
    "lons,lats = numpy.squeeze(mesh_mask.glamt), numpy.squeeze(mesh_mask.gphit)\n",
    "\n",
    "\n",
    "# bathy = xarray.open_dataset(\"https://salishsea.eos.ubc.ca/erddap/griddap/ubcSSnBathymetryV21-08\")\n",
    "# lons,lats = bathy.longitude, bathy.latitude\n",
    "\n",
    "# grid_dir = Path('../../../../Data/SalishSeaCast/grid')\n",
    "# coords = xarray.open_dataset(grid_dir/'coordinates_seagrid_SalishSea201702.nc', decode_times=False)\n",
    "#lon, lat = [coords[var][0, ...].values for var in ('glamt', 'gphit')]\n",
    "#lats = mask['nav_lat'][1:-1,1:-1]\n",
    "#lons = mask['nav_lon'][:]\n",
    "\n",
    "lons.shape"
   ]
  },
  {
   "cell_type": "code",
   "execution_count": 5,
   "id": "1556d899-6dcb-466e-a9f4-990916515326",
   "metadata": {},
   "outputs": [
    {
     "name": "stdout",
     "output_type": "stream",
     "text": [
      "['sji_SpillLocations.yaml', 'jdf_SpillLocations.yaml', 'ps_SpillLocations.yaml', 'ps_NONESpillLocations.yaml', 'sji_NONESpillLocations.yaml', 'sog_SpillLocations.yaml', 'sog_NONESpillLocations.yaml', 'cwchn_SpillLocations.yaml', 'lummi_SpillLocations.yaml', 'jdf_NONESpillLocations.yaml', 'cwchn_NONESpillLocations.yaml', 'lummi_NONESpillLocations.yaml']\n"
     ]
    }
   ],
   "source": [
    "spill_files = [file for file in os.listdir(spill_file_dir) if file.endswith(\".yaml\")]\n",
    "locs = [filename.split('_')[0] for filename in spill_files]\n",
    "loc_tags=list(set(locs))\n",
    "liters_to_gal = 0.264172 * 1e-6\n",
    "\n",
    "print(spill_files)\n",
    "# spill_files = [\n",
    "#  'cwchn_NONESpillLocations.yaml',\n",
    "#  'cwchn_SpillLocations.yaml',\n",
    "#  'jdf_NONESpillLocations.yaml',\n",
    "#  'jdf_SpillLocations.yaml',\n",
    "#  'lummi_NONESpillLocations.yaml',\n",
    "#  'lummi_SpillLocations.yaml',\n",
    "#  'sji_NONESpillLocations.yaml',\n",
    "#  'sji_SpillLocations.yaml']\n"
   ]
  },
  {
   "cell_type": "code",
   "execution_count": 6,
   "id": "6b4cd811-99dc-4cdf-b195-c664041317c4",
   "metadata": {},
   "outputs": [],
   "source": [
    "spillLocsByRegion={}\n",
    "no_spillLocsByRegion={}\n",
    "max_vol=0\n",
    "for loc in loc_tags:\n",
    "    with open(spill_file_dir/f\"{loc}_SpillLocations.yaml\", 'r') as file:\n",
    "        spillLocsByRegion[loc] = yaml.safe_load(file)\n",
    "    with open(spill_file_dir/f\"{loc}_NONESpillLocations.yaml\", 'r') as file:\n",
    "        no_spillLocsByRegion[loc] = yaml.safe_load(file)\n",
    "    max_vol=max(numpy.max(spillLocsByRegion[loc]['vol']),max_vol)\n",
    "    max_vol=max(numpy.max(no_spillLocsByRegion[loc]['vol']),max_vol)"
   ]
  },
  {
   "cell_type": "code",
   "execution_count": 7,
   "id": "acd2376f-b988-42e3-b3c4-4c8895d3b468",
   "metadata": {},
   "outputs": [
    {
     "data": {
      "text/plain": [
       "(896, 396)"
      ]
     },
     "execution_count": 7,
     "metadata": {},
     "output_type": "execute_result"
    }
   ],
   "source": [
    "# grid cell locations [y-grid,x-grid]\n",
    "grid_dir = Path('../../../../Data/SalishSeaCast/grid')\n",
    "mask = xarray.open_dataset(grid_dir/'mesh_mask201702.nc')\n",
    "bathy = xarray.open_dataset(grid_dir/'bathymetry_201702.nc')\n",
    "coords = xarray.open_dataset(grid_dir/'coordinates_seagrid_SalishSea201702.nc', decode_times=False)\n",
    "lon, lat = [coords[var][0, ...].values for var in ('glamt', 'gphit')]\n",
    "lats = mask['nav_lat'][1:-1,1:-1]\n",
    "lons = mask['nav_lon'][:]\n",
    "lats.shape"
   ]
  },
  {
   "cell_type": "code",
   "execution_count": null,
   "id": "cb5c892b-32c8-45ac-b819-08fdafd69899",
   "metadata": {},
   "outputs": [],
   "source": []
  },
  {
   "cell_type": "code",
   "execution_count": 8,
   "id": "0bb8e5cc-7016-4141-be7c-d1b701e9aa02",
   "metadata": {},
   "outputs": [],
   "source": [
    "# General regional interests\n",
    "# Juan de Fuca\n",
    "JDF = numpy.full(lons.shape, True)\n",
    "JDF[225:475,0:170] = False\n",
    "JDF_masked = numpy.ma.masked_where(JDF, numpy.ones(lons.shape))\n",
    "\n",
    "# box method\n",
    "jdf_edges=[[225,0],[225,173],[475,173],[475,0]]\n",
    "jdf_box = numpy.array([[lons[edge[0],edge[1]],lats[edge[0],edge[1]]] for edge in jdf_edges])\n",
    "\n",
    "# Puget Sound\n",
    "PS = numpy.full(lons.shape, True)\n",
    "PS[0:160,50:325] = False\n",
    "PS_masked = numpy.ma.masked_where(PS, numpy.ones(lons.shape))\n",
    "\n",
    "# box method\n",
    "ps_edges=[[0,50],[0,325],[215,325],[215,50]]\n",
    "ps_box = numpy.array([[lons[edge[0],edge[1]],lats[edge[0],edge[1]]] for edge in ps_edges])\n",
    "\n",
    "# Strait of Georgia\n",
    "SOG = numpy.full(lons.shape, True)\n",
    "SOG[335:715,100:-1] = False\n",
    "SOG_masked = numpy.ma.masked_where(SOG, numpy.ones(lons.shape))\n",
    "\n",
    "# box method\n",
    "SOG_edges=[[335,100],[335,-1],[715,-1],[715,100]]\n",
    "sog_box = numpy.array([[lons[edge[0],edge[1]],lats[edge[0],edge[1]]] for edge in SOG_edges])\n",
    "\n",
    "# Areas of import to two Coast Salish communities\n",
    "# Cowichan\n",
    "cwchn = numpy.full(lons.shape, True)\n",
    "cwchn[340:500,150:295] = False\n",
    "cwchn_masked = numpy.ma.masked_where(cwchn, numpy.ones(lons.shape))\n",
    "\n",
    "# box method\n",
    "cwchn_edges=[[340,150],[340,295],[500,295],[500,150]]\n",
    "cwchn_box = numpy.array([[lons[edge[0],edge[1]],lats[edge[0],edge[1]]] for edge in cwchn_edges])\n",
    "\n",
    "# SJI\n",
    "sji = numpy.full(lons.shape, True)\n",
    "sji[274:324,237:270] = False\n",
    "sji_masked = numpy.ma.masked_where(sji, numpy.ones(lons.shape))\n",
    "\n",
    "# box method\n",
    "sji_edges=[[274,237],[274,270],[324,270],[324,237]]\n",
    "sji_box = numpy.array([[lons[edge[0],edge[1]],lats[edge[0],edge[1]]] for edge in sji_edges])\n",
    "\n",
    "# Lummi\n",
    "lummi = numpy.full(lons.shape, True)\n",
    "lummi[300:325,338:370] = False\n",
    "lummi_masked = numpy.ma.masked_where(lummi, numpy.ones(lons.shape))\n",
    "\n",
    "# box method\n",
    "lummi_edges=[[300,338],[300,370],[325,370],[325,338]]\n",
    "lummi_box = numpy.array([[lons[edge[0],edge[1]],lats[edge[0],edge[1]]] for edge in lummi_edges])"
   ]
  },
  {
   "cell_type": "markdown",
   "id": "7f15df74-5c5d-4966-b95a-dbe6a108a87a",
   "metadata": {},
   "source": [
    "# megaliters"
   ]
  },
  {
   "cell_type": "code",
   "execution_count": 9,
   "id": "eea16bd5-6ec9-4a8d-87be-7cf1d79aead3",
   "metadata": {},
   "outputs": [],
   "source": [
    "loc_tags = ['lummi', 'jdf', 'cwchn', 'sji']\n",
    "# add suplot labels\n",
    "subplot_labels=['(a)','(b)','(c)','(d)','(e)','(f)','(g)','(h)']"
   ]
  },
  {
   "cell_type": "code",
   "execution_count": 10,
   "id": "1fefc8d5-b213-4ecb-9936-5caabeeba1b0",
   "metadata": {},
   "outputs": [
    {
     "name": "stderr",
     "output_type": "stream",
     "text": [
      "Possible issue encountered when converting Shape #95 to GeoJSON: Shapefile format requires that polygons contain at least one exterior ring, but the Shape was entirely made up of interior holes (defined by counter-clockwise orientation in the shapefile format). The rings were still included but were encoded as GeoJSON exterior rings instead of holes.\n",
      "Possible issue encountered when converting Shape #95 to GeoJSON: Shapefile format requires that polygons contain at least one exterior ring, but the Shape was entirely made up of interior holes (defined by counter-clockwise orientation in the shapefile format). The rings were still included but were encoded as GeoJSON exterior rings instead of holes.\n",
      "Possible issue encountered when converting Shape #491 to GeoJSON: Shapefile format requires that polygons contain at least one exterior ring, but the Shape was entirely made up of interior holes (defined by counter-clockwise orientation in the shapefile format). The rings were still included but were encoded as GeoJSON exterior rings instead of holes.\n",
      "Possible issue encountered when converting Shape #491 to GeoJSON: Shapefile format requires that polygons contain at least one exterior ring, but the Shape was entirely made up of interior holes (defined by counter-clockwise orientation in the shapefile format). The rings were still included but were encoded as GeoJSON exterior rings instead of holes.\n"
     ]
    },
    {
     "data": {
      "image/png": "[encoded data removed]",
      "text/plain": [
       "<Figure size 1800x1300 with 8 Axes>"
      ]
     },
     "metadata": {},
     "output_type": "display_data"
    }
   ],
   "source": [
    "import matplotlib.ticker as mticker\n",
    "from cartopy.mpl.gridliner import LONGITUDE_FORMATTER, LATITUDE_FORMATTER\n",
    "\n",
    "fs_legend = 12\n",
    "fs_legend_title = 14\n",
    "# scale for scatter plot marker size\n",
    "ms=400\n",
    "\n",
    "fig, axs = plt.subplots(2, 4, \n",
    "              figsize=(18, 13), #(width, height)\n",
    "              subplot_kw={'projection': rotated_crs, \n",
    "                \"facecolor\": \"white\"},\n",
    "              gridspec_kw={\n",
    "                   'width_ratios': [1,1,1,1],\n",
    "                   'height_ratios': [1,1],\n",
    "                   'wspace': 0.015,\n",
    "                  'hspace': 0.03}\n",
    ")\n",
    "for idx,region in enumerate(loc_tags):#['sji','ps','lummi']:\n",
    "    # --------- Figure setup ---------\n",
    "    proj_ref = crs.PlateCarree()\n",
    "    lw = 1 # linewidth for regional boundary boxes\n",
    "    fs = 12 #fontsize for colorbar\n",
    "\n",
    "    for subplot in [0,1]:\n",
    "        # Make map\n",
    "        extent = [-126.5, -121.2, 46.8, 51.2]\n",
    "        proj = crs.Mercator(numpy.mean(extent[:2]), *extent[2:])\n",
    "        axs[subplot,idx].set_extent([-124, -123.75, lats.min()-0.15, lats.max()])      \n",
    "        axs[subplot,idx].add_feature(feature.GSHHSFeature(\n",
    "            'full', edgecolor='grey', linewidth=0.6, facecolor='papayawhip'))\n",
    "        axs[subplot,idx].add_feature(feature.NaturalEarthFeature(\n",
    "            category='physical', name='rivers_lake_centerlines',\n",
    "            scale='10m', facecolor='none', edgecolor='grey')\n",
    "        )\n",
    "        \n",
    "        # add lat/lon lines\n",
    "        if (idx == 0) and (subplot == 1):\n",
    "            gl = axs[subplot,idx].gridlines(linestyle=\"--\", color='gray', alpha=0.5, draw_labels=True, dms=True, x_inline=False, y_inline=False)\n",
    "            gl.top_labels, gl.right_labels = False, False\n",
    "        else:\n",
    "            gl = axs[subplot,idx].gridlines(linestyle=\"--\", color='gray', alpha=0.5, draw_labels=False, dms=True, x_inline=False, y_inline=False)\n",
    "       \n",
    "        # ax.gridlines(draw_labels=True, dms=True, x_inline=False, y_inline=False)\n",
    "        gl.xlocator = mticker.FixedLocator([-126, -125, -124, -123, -122])\n",
    "        gl.ylocator = mticker.FixedLocator([47,48,49,50])\n",
    "        gl.xformatter = LONGITUDE_FORMATTER\n",
    "        gl.yformatter = LATITUDE_FORMATTER\n",
    "        gl.xlabel_style = {'size': 12, 'color': 'gray'}\n",
    "        gl.ylabel_style = {'size': 12, 'color': 'gray'}\n",
    "\n",
    "        # Overlay region box\n",
    "        domain_box = numpy.array(\n",
    "            [(lons[ji], lats[ji]) for ji in [(0, 0), (0, -1), (-1, -1), (-1, 0)]])\n",
    "        #c=axs[0].contourf(lon, lat, bathy.Bathymetry, levels=numpy.arange(0, 451, 50), cmap='Blues', extend='max', transform=proj_ref)\n",
    "        p=axs[subplot,idx].add_patch(patches.Polygon(locals()[f'{region}_box'], fc='w', ec='k', alpha=0.2, lw=lw, transform=proj_ref, zorder=3))\n",
    "        p=axs[subplot,idx].add_patch(patches.Polygon(locals()[f'{region}_box'], fc='none', ec='darkred', lw=3, transform=proj_ref, zorder=3))\n",
    "\n",
    "\n",
    "        # ~~~ Number of spills ~~~\n",
    "        if subplot==0:\n",
    "            spill_color = 'navy'\n",
    "            # do coordinate conversion of (x,y)\n",
    "            xynps = axs[subplot,idx].projection.transform_points(\n",
    "                crs.Geodetic(), \n",
    "                numpy.array(spillLocsByRegion[region]['lon']), \n",
    "                numpy.array(spillLocsByRegion[region]['lat']))\n",
    "            # calculate histograms for number of spills and plot using pcolormesh\n",
    "            s = [ms*vol/max_vol for vol in spillLocsByRegion[region]['vol']]\n",
    "            scatter_transfers=axs[subplot,idx].scatter(\n",
    "                xynps[:,0], \n",
    "                xynps[:,1],\n",
    "                color=spill_color,\n",
    "                marker='o',\n",
    "                zorder=4,\n",
    "                s=s,\n",
    "                alpha=0.5\n",
    "            )\n",
    "            # use \"func\" to convert values back and scale from liters to megaliters\n",
    "            # see: https://matplotlib.org/stable/api/collections_api.html#matplotlib.collections.PathCollection.legend_elements\n",
    "            handles, labels = scatter_transfers.legend_elements(\n",
    "                prop=\"sizes\", color=spill_color, num=[20,40,60,80], func=lambda x: max_vol*x/400/1000,alpha=1)\n",
    "            legend = axs[subplot,idx].legend(\n",
    "                handles, \n",
    "                labels, \n",
    "                loc=\"upper right\", \n",
    "                title=\"volume\\n(megaliters)\", \n",
    "                fontsize=fs_legend)\n",
    "             # add text with ship type\n",
    "            subplot_label = AnchoredText(\n",
    "                subplot_labels[idx], \n",
    "                loc=\"upper left\",frameon=False\n",
    "            )\n",
    "            axs[subplot,idx].add_artist(subplot_label)\n",
    "            plt.setp(legend.get_title(),fontsize=fs_legend_title)\n",
    "            #axs[subplot,idx].set_title(f'Affecting\\n{region.upper()} Coastline', fontsize=fs)\n",
    "        else:\n",
    "            # do coordinate conversion of (x,y)\n",
    "            nospill_color = 'navy'\n",
    "            xynps = axs[subplot,idx].projection.transform_points(\n",
    "                crs.Geodetic(), \n",
    "                numpy.array(no_spillLocsByRegion[region]['lon']), \n",
    "                numpy.array(no_spillLocsByRegion[region]['lat']))\n",
    "             # calculate histograms for number of spills and plot using pcolormesh\n",
    "            s = [ms*vol/max_vol for vol in no_spillLocsByRegion[region]['vol']]\n",
    "            scatter_transfers=axs[subplot,idx].scatter(\n",
    "                xynps[:,0], \n",
    "                xynps[:,1],\n",
    "                color=nospill_color,\n",
    "                edgecolor=nospill_color,\n",
    "                marker='X',\n",
    "                zorder=4,\n",
    "                s=s,\n",
    "                alpha=0.5\n",
    "            )\n",
    "            # use \"func\" to convert values back and scale from liters to megaliters\n",
    "            # see: https://matplotlib.org/stable/api/collections_api.html#matplotlib.collections.PathCollection.legend_elements\n",
    "            handles, labels = scatter_transfers.legend_elements(\n",
    "                prop=\"sizes\", color=spill_color, \n",
    "                num=[20,40,60,80], \n",
    "                func=lambda x: max_vol*x/400/1000,\n",
    "                alpha=1)\n",
    "\n",
    "            # handles, labels = scatter_transfers.legend_elements(\n",
    "            #     prop=\"sizes\", color=nospill_color, num=4, alpha=1)\n",
    "            legend = axs[subplot,idx].legend(\n",
    "                handles, \n",
    "                labels, \n",
    "                loc=\"upper right\", \n",
    "                title=\"volume\\n(megaliters)\", \n",
    "                fontsize=fs_legend)\n",
    "            # add text with ship type\n",
    "            subplot_label = AnchoredText(\n",
    "                subplot_labels[4+idx], \n",
    "                loc=\"upper left\",frameon=False\n",
    "            )\n",
    "            axs[subplot,idx].add_artist(subplot_label)\n",
    "            plt.setp(legend.get_title(),fontsize=fs_legend_title)\n",
    "            #axs[subplot,idx].set_title(f'Not Affecting\\n{region.upper()} Coastline', fontsize=fs)\n",
    "   \n",
    "plt.savefig(graphics_directory/f'Figure15_Spills_vs_NoSpills_byRegion_Mliters.png')\n",
    "    "
   ]
  },
  {
   "cell_type": "markdown",
   "id": "95b1b0ff-b55d-43f6-a548-8c391c7fc4e3",
   "metadata": {},
   "source": [
    "# millions of gallons"
   ]
  },
  {
   "cell_type": "code",
   "execution_count": 11,
   "id": "328cc228-cd1d-4ede-8496-ba2d36f8802d",
   "metadata": {},
   "outputs": [
    {
     "name": "stdout",
     "output_type": "stream",
     "text": [
      "[<matplotlib.lines.Line2D object at 0x15119aad0>, <matplotlib.lines.Line2D object at 0x15119ac10>, <matplotlib.lines.Line2D object at 0x15119ad50>, <matplotlib.lines.Line2D object at 0x15119ae90>]\n",
      "[<matplotlib.lines.Line2D object at 0x1535eaad0>, <matplotlib.lines.Line2D object at 0x1535eac10>, <matplotlib.lines.Line2D object at 0x1535ead50>, <matplotlib.lines.Line2D object at 0x1535eae90>]\n"
     ]
    },
    {
     "data": {
      "image/png": "[encoded data removed]",
      "text/plain": [
       "<Figure size 1000x1000 with 2 Axes>"
      ]
     },
     "metadata": {},
     "output_type": "display_data"
    },
    {
     "data": {
      "image/png": "[encoded data removed]",
      "text/plain": [
       "<Figure size 1000x1000 with 2 Axes>"
      ]
     },
     "metadata": {},
     "output_type": "display_data"
    }
   ],
   "source": [
    "fs_legend = 12\n",
    "fs_legend_title = 14\n",
    "# scale for scatter plot marker size\n",
    "ms=400\n",
    "plt.rcParams['savefig.dpi']=400\n",
    "\n",
    "for region in ['sji','lummi']:#loc_tags:#['sji','ps','lummi']:#\n",
    "    # --------- Figure setup ---------\n",
    "    proj_ref = crs.PlateCarree()\n",
    "    lw = 1 # linewidth for regional boundary boxes\n",
    "    fs = 12 #fontsize for colorbar\n",
    "\n",
    "    # The code for this figure is a modified version of code from Ben Moore-Maley\n",
    "    fig, axs = plt.subplots(1, 2, \n",
    "                  figsize=(10, 10), #(width, height)\n",
    "                  subplot_kw={'projection': rotated_crs, \n",
    "                    \"facecolor\": \"white\"},\n",
    "                  gridspec_kw={\n",
    "                       'width_ratios': [1,1],\n",
    "                       'height_ratios': [1],\n",
    "                       'wspace': 0.1,\n",
    "                      'hspace':-.2}\n",
    "    )\n",
    "\n",
    "    for subplot in [0,1]:\n",
    "        # Make map\n",
    "        extent = [-126.5, -121.2, 46.8, 51.2]\n",
    "        proj = crs.Mercator(numpy.mean(extent[:2]), *extent[2:])\n",
    "        axs[subplot].set_extent([-124, -123.75, lats.min()-0.15, lats.max()])      \n",
    "        axs[subplot].add_feature(feature.GSHHSFeature(\n",
    "            'full', edgecolor='k', linewidth=0.6, facecolor='lightgrey'))\n",
    "        axs[subplot].add_feature(feature.NaturalEarthFeature(\n",
    "            category='physical', name='rivers_lake_centerlines',\n",
    "            scale='10m', facecolor='none', edgecolor='k',\n",
    "        ))\n",
    "        \n",
    "        # Overlay region box\n",
    "        domain_box = numpy.array(\n",
    "            [(lons[ji], lats[ji]) for ji in [(0, 0), (0, -1), (-1, -1), (-1, 0)]])\n",
    "        #c=axs[0].contourf(lon, lat, bathy.Bathymetry, levels=numpy.arange(0, 451, 50), cmap='Blues', extend='max', transform=proj_ref)\n",
    "        p=axs[subplot].add_patch(patches.Polygon(locals()[f'{region}_box'], fc='w', ec='k', alpha=0.2, lw=lw, transform=proj_ref, zorder=3))\n",
    "        p=axs[subplot].add_patch(patches.Polygon(locals()[f'{region}_box'], fc='none', ec='darkred', lw=3, transform=proj_ref, zorder=3))\n",
    "\n",
    "\n",
    "        # ~~~ Number of spills ~~~\n",
    "        if subplot==0:\n",
    "            spill_color = 'navy'\n",
    "            # do coordinate conversion of (x,y)\n",
    "            xynps = axs[subplot].projection.transform_points(\n",
    "                crs.Geodetic(), \n",
    "                numpy.array(spillLocsByRegion[region]['lon']), \n",
    "                numpy.array(spillLocsByRegion[region]['lat']))\n",
    "            # calculate histograms for number of spills and plot using pcolormesh\n",
    "            s = [ms*vol/max_vol for vol in spillLocsByRegion[region]['vol']]\n",
    "            scatter_transfers=axs[subplot].scatter(\n",
    "                xynps[:,0], \n",
    "                xynps[:,1],\n",
    "                color=spill_color,\n",
    "                marker='o',\n",
    "                zorder=4,\n",
    "                s=s,\n",
    "                alpha=0.5\n",
    "            )\n",
    "            # use \"func\" to convert values back and scale from liters to megaliters\n",
    "            # see: https://matplotlib.org/stable/api/collections_api.html#matplotlib.collections.PathCollection.legend_elements\n",
    "            handles, labels = scatter_transfers.legend_elements(\n",
    "                prop=\"sizes\", \n",
    "                color=spill_color, \n",
    "                num=[10, 20, 40, 60], \n",
    "                func=lambda x: max_vol*x/ms/1000,alpha=1)\n",
    "            legend = axs[subplot].legend(\n",
    "                handles, \n",
    "                labels, \n",
    "                loc=\"upper right\", \n",
    "                title=\"volume\\n(1000xgallons)\",\n",
    "                fontsize=fs_legend)\n",
    "            plt.setp(legend.get_title(),fontsize=fs_legend_title)\n",
    "            axs[subplot].set_title(f'Affecting\\n{region.upper()} Coastline', fontsize=fs)\n",
    "        else:\n",
    "            # do coordinate conversion of (x,y)\n",
    "            nospill_color = 'darkslategrey'\n",
    "            xynps = axs[subplot].projection.transform_points(\n",
    "                crs.Geodetic(), \n",
    "                numpy.array(no_spillLocsByRegion[region]['lon']), \n",
    "                numpy.array(no_spillLocsByRegion[region]['lat']))\n",
    "             # calculate histograms for number of spills and plot using pcolormesh\n",
    "            s = [ms*vol/max_vol for vol in no_spillLocsByRegion[region]['vol']]\n",
    "            scatter_transfers=axs[subplot].scatter(\n",
    "                xynps[:,0], \n",
    "                xynps[:,1],\n",
    "                color=nospill_color,\n",
    "                edgecolor=nospill_color,\n",
    "                marker='o',\n",
    "                zorder=4,\n",
    "                s=s,\n",
    "                alpha=0.5\n",
    "            )\n",
    "            # use \"func\" to convert values back and scale from liters to megaliters\n",
    "            # see: https://matplotlib.org/stable/api/collections_api.html#matplotlib.collections.PathCollection.legend_elements\n",
    "            handles, labels = scatter_transfers.legend_elements(\n",
    "                prop=\"sizes\", color=nospill_color, \n",
    "                num=[10, 20, 40, 60], \n",
    "                func=lambda x: max_vol*x/ms/1000,\n",
    "                alpha=1)\n",
    "\n",
    "            print(handles)\n",
    "            # handles, labels = scatter_transfers.legend_elements(\n",
    "            #     prop=\"sizes\", color=nospill_color, num=4, alpha=1)\n",
    "            legend = axs[subplot].legend(\n",
    "                handles, \n",
    "                labels, \n",
    "                loc=\"upper right\", \n",
    "                title=\"volume\\n(1000xgallons)\", \n",
    "                fontsize=fs_legend)\n",
    "            plt.setp(legend.get_title(),fontsize=fs_legend_title)\n",
    "            axs[subplot].set_title(f'Not Affecting\\n{region.upper()} Coastline', fontsize=fs)\n",
    "   \n",
    "    plt.savefig(graphics_directory/f'Spills_vs_NoSpills_byRegion_{region}_gallons.png')\n",
    "    \n",
    "\n"
   ]
  },
  {
   "cell_type": "code",
   "execution_count": 12,
   "id": "2e0fd861-27f3-43a2-97e3-0ed428ed0ee2",
   "metadata": {},
   "outputs": [
    {
     "ename": "IndentationError",
     "evalue": "unexpected indent (2364808698.py, line 2)",
     "output_type": "error",
     "traceback": [
      "  \u001b[36mCell\u001b[39m\u001b[36m \u001b[39m\u001b[32mIn[12]\u001b[39m\u001b[32m, line 2\u001b[39m\n\u001b[31m    \u001b[39m\u001b[31mNitems=5\u001b[39m\n    ^\n\u001b[31mIndentationError\u001b[39m\u001b[31m:\u001b[39m unexpected indent\n"
     ]
    }
   ],
   "source": [
    "# get length of legend entries\n",
    "            Nitems=5\n",
    "            Nlegend_items=len(scatter_transfers.legend_elements(\"sizes\", num=Nitems)[:][0])\n",
    "            # legend_txt=[]\n",
    "            # for idx,legend_item in enumerate(scatter_transfers.legend_elements(\"sizes\", num=Nitems)[1][:]):\n",
    "            #     legend_txt.append(\n",
    "            #         max_vol*float(sc.legend_elements(\"sizes\", num=Nitems)[1][idx].split(\"{\")[1].split(\"}\")[0])/ms)\n",
    "            # handles, labels = scatter_transfers.legend_elements(\n",
    "            #     prop=\"sizes\", color=spill_color, num=Nitems, func=lambda x: max_vol*x/400,alpha=1)\n",
    "            # for idx,legend_item in enumerate(scatter_transfers.legend_elements(\"sizes\", num=[max_vol/4,max_vol/2])[1][:]):\n",
    "            #     legend_txt.append(\n",
    "            #         max_vol*float(sc.legend_elements(\"sizes\", num=[max_vol/4,max_vol/2])[1][idx].split(\"{\")[1].split(\"}\")[0])/ms)\n",
    "            "
   ]
  },
  {
   "cell_type": "code",
   "execution_count": null,
   "id": "78357130-a084-45c4-847e-06aa8e011b8c",
   "metadata": {},
   "outputs": [],
   "source": [
    "import numpy as np\n",
    "import matplotlib.pyplot as plt\n",
    "\n",
    "N = 50\n",
    "x = np.random.rand(N)\n",
    "y = np.random.rand(N)\n",
    "a2 = 400*np.random.rand(N)\n",
    "\n",
    "sc = plt.scatter(x, y, s=a2, alpha=0.5)\n",
    "plt.legend(*sc.legend_elements(\"sizes\", num=6))\n",
    "plt.show()"
   ]
  },
  {
   "cell_type": "code",
   "execution_count": null,
   "id": "dea2520f-6d68-4d39-ae58-a1e8457f3c20",
   "metadata": {},
   "outputs": [],
   "source": [
    "# get length of legend entries\n",
    "Nlegend_items=len(sc.legend_elements(\"sizes\", num=6)[:][0])\n",
    "for idx,legend_item in enumerate(sc.legend_elements(\"sizes\", num=6)[1][:]):\n",
    "    print(float(sc.legend_elements(\"sizes\", num=6)[1][idx].split(\"{\")[1].split(\"}\")[0])/400)"
   ]
  },
  {
   "cell_type": "code",
   "execution_count": null,
   "id": "5c06eb50-66c9-4df7-b19d-06bf5ed93fce",
   "metadata": {},
   "outputs": [],
   "source": [
    "for idx,legend_item in enumerate(sc.legend_elements(\"sizes\", num=6)[1][:]):\n",
    "    print(float(sc.legend_elements(\"sizes\", num=6)[1][idx].split(\"{\")[1].split(\"}\")[0])/400)"
   ]
  },
  {
   "cell_type": "code",
   "execution_count": null,
   "id": "5fc789c5-b46f-4fa3-ab97-4d498277397e",
   "metadata": {},
   "outputs": [],
   "source": [
    "import numpy as np\n",
    "import pandas as pd\n",
    "N=200\n",
    "M=5\n",
    "x = np.random.rand(N)\n",
    "y = np.random.rand(N)\n",
    "a2 = 400*np.random.rand(N)\n",
    "\n",
    "# Create the DataFrame from your randomised data and bin it using groupby.\n",
    "df = pd.DataFrame(data=dict(x=x, y=y, a2=a2))\n",
    "bins = np.linspace(df.a2.min(), df.a2.max(), M)\n",
    "grouped = df.groupby(np.digitize(df.a2, bins))\n",
    "\n",
    "# Create some sizes and some labels.\n",
    "sizes = [50*(i+1.) for i in range(M)]\n",
    "labels = ['Tiny', 'Small', 'Medium', 'Large', 'Huge']\n",
    "\n",
    "for i, (name, group) in enumerate(grouped):\n",
    "    print(name,group)\n"
   ]
  },
  {
   "cell_type": "code",
   "execution_count": null,
   "id": "10541aa1-eec7-4d66-b861-6a0d7b46d1e7",
   "metadata": {},
   "outputs": [],
   "source": [
    "numpy.digitize(spillLocsByRegion[region]['vol'], bins)"
   ]
  },
  {
   "cell_type": "code",
   "execution_count": null,
   "id": "ec3c8365-1f5d-47e1-9ef0-d8250df2f62a",
   "metadata": {},
   "outputs": [],
   "source": [
    "for region in loc_tags:\n",
    "    print(max(numpy.max(spillLocsByRegion[region]['vol']),numpy.max(no_spillLocsByRegion[region]['vol'])))"
   ]
  },
  {
   "cell_type": "code",
   "execution_count": null,
   "id": "435e7c72-dfd2-46a6-b3a0-eee569085aaa",
   "metadata": {},
   "outputs": [],
   "source": [
    "fs = 20\n",
    "ms = 300\n",
    "fs_legend = 12\n",
    "fs_legend_title = 16\n",
    "import matplotlib.gridspec as gridspec\n",
    "\n",
    "handles, labels = scatter_transfers.legend_elements(prop=\"sizes\", color='brown', num=3, alpha=1)\n",
    "legend = axs[2].legend(handles, labels, loc=\"upper right\", title=\"volume (liters)\", fontsize=fs_legend)\n",
    "plt.setp(legend.get_title(),fontsize=fs_legend_title)\n",
    "axs[2].set_title('oil transfer volumes', fontsize=fs)"
   ]
  }
 ],
 "metadata": {
  "kernelspec": {
   "display_name": "Python 3 (ipykernel)",
   "language": "python",
   "name": "python3"
  },
  "language_info": {
   "codemirror_mode": {
    "name": "ipython",
    "version": 3
   },
   "file_extension": ".py",
   "mimetype": "text/x-python",
   "name": "python",
   "nbconvert_exporter": "python",
   "pygments_lexer": "ipython3",
   "version": "3.13.5"
  }
 },
 "nbformat": 4,
 "nbformat_minor": 5
}
