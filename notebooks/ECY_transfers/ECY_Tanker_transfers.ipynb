{
 "cells": [
  {
   "cell_type": "markdown",
   "id": "6584e1c8",
   "metadata": {},
   "source": [
    "# Determine tanker transfer statistics\n",
    "- Investigate ECY transfers for vessels recorded by AIS MMSI. \n",
    "- This notebook is modified from `https://github.com/MIDOSS/analysis-rachael/blob/main/notebooks/monte_carlo_QAQC/QAQC_Tanker_AISlengths_DOEcapacities.ipynb` to focus on ECY transfers\n",
    "\n",
    "---\n",
    "Use `analysis-rachael/env/monte_carlo.yaml` to create an environment for this notebook:\n",
    "```\n",
    " conda env create -f [analysis-rachael/env/monte_carlo.yaml]\n",
    "```\n",
    "or, to activate this environment, use\n",
    "```\n",
    " conda activate monte-carlo\n",
    "```\n",
    "To deactivate an active environment, use\n",
    "```\n",
    " conda deactivate\n",
    "```\n",
    "---  "
   ]
  },
  {
   "cell_type": "code",
   "execution_count": 3,
   "id": "3f815a18",
   "metadata": {},
   "outputs": [
    {
     "ename": "SyntaxError",
     "evalue": "invalid syntax (4257113732.py, line 13)",
     "output_type": "error",
     "traceback": [
      "\u001b[0;36m  Cell \u001b[0;32mIn[3], line 13\u001b[0;36m\u001b[0m\n\u001b[0;31m    from ../scripts/monte_carlo_utils.py import get_ECY_df, get_bin\u001b[0m\n\u001b[0m           ^\u001b[0m\n\u001b[0;31mSyntaxError\u001b[0m\u001b[0;31m:\u001b[0m invalid syntax\n"
     ]
    }
   ],
   "source": [
    "# import necessary packages\n",
    "import os\n",
    "import yaml\n",
    "import pandas\n",
    "import numpy\n",
    "import matplotlib.pyplot as plt\n",
    "import matplotlib as mpl\n",
    "from matplotlib.ticker import FormatStrFormatter\n",
    "import geopandas as gpd\n",
    "from pathlib import Path\n",
    "# import function for querying ECY dataframes\n",
    "from dask import delayed\n",
    "from monte_carlo_utils import get_ECY_df, get_bin\n",
    "\n",
    "# set file location and name\n",
    "ecy_xls_path = Path(\n",
    "    '/data/MIDOSS/spreadsheets/MuellerTrans4-30-20.xlsx'\n",
    ")\n",
    "fac_xls_path = Path(\n",
    "    '/data/MIDOSS/marine_transport_data/Oil_Transfer_Facilities.xlsx'\n",
    ")\n",
    "yaml_out_dir = Path(\n",
    "    '/data/MIDOSS/marine_transport_data/'\n",
    ")\n",
    "\n",
    "# import facility locations\n",
    "facWA = pandas.read_excel(\n",
    "    fac_xls_path,\n",
    "    sheet_name = 'Washington',\n",
    "    usecols=\"B,D,J,K\"\n",
    ")\n",
    "\n",
    "# import facility locations\n",
    "facCAD = pandas.read_excel(\n",
    "    fac_xls_path,\n",
    "    sheet_name = 'British Columbia',\n",
    "    usecols=\"A\",\n",
    "    nrows=10\n",
    ")\n",
    "\n",
    "mpl.rc('font', size=11)\n",
    "# some of the following may be repetetive but can also be set relative to the font value above \n",
    "#    (eg \"xx-small, x-small,small, medium, large, x-large, xx-large, larger, or smaller\"; see link above for details)\n",
    "mpl.rc('xtick', labelsize=12)\n",
    "mpl.rc('ytick', labelsize=12)\n",
    "mpl.rc('legend', fontsize=12)\n",
    "mpl.rc('axes', titlesize=16)\n",
    "mpl.rc('axes', labelsize=12)\n",
    "mpl.rc('figure', titlesize=16)\n",
    "mpl.rc('text', usetex=False)\n",
    "mpl.rc('font', family='sans-serif', weight='normal', style='normal')\n",
    "\n",
    "# Import Dept. of Ecology transfer data\n",
    "ECYdf = get_ECY_df(\n",
    "    ecy_xls_path, \n",
    "    fac_xls_path,\n",
    "    group = 'no'\n",
    ")\n",
    "\n",
    "# Create list of names for tanker size classes evaluated\n",
    "size_classes = [\n",
    "    \"Smallest Tanker (< 60 m)\",\n",
    "    \"Small Tanker (61 - 150 m)\", \n",
    "    \"Handymax (151-200 m)\", \n",
    "    \"Aframax (201-250 m)\", \n",
    "    \"Suezmax (251-300 m)\" \n",
    "]"
   ]
  },
  {
   "cell_type": "markdown",
   "id": "cc157d78-31b7-4cbf-842c-b2533c5a5402",
   "metadata": {},
   "source": [
    "#### Conversion factors"
   ]
  },
  {
   "cell_type": "code",
   "execution_count": null,
   "id": "3805e70d-f00d-43ac-9880-09cb8039ce20",
   "metadata": {},
   "outputs": [],
   "source": [
    "gal2liter = 3.78541"
   ]
  },
  {
   "cell_type": "markdown",
   "id": "d0d1524d-0cd0-49e5-b14c-363d089bd1f4",
   "metadata": {},
   "source": [
    "#### Initalizate dictionaries"
   ]
  },
  {
   "cell_type": "code",
   "execution_count": null,
   "id": "b15f8350-817b-446b-b4bc-5a67c57cf81f",
   "metadata": {},
   "outputs": [],
   "source": [
    "# All AIS ship track data sorted by vessel type. \n",
    "allTracks={} \n",
    "# MMSI numbers and names by tanker size classes\n",
    "mmsi_names = {}\n",
    "# Number of MMSI used in each size class to evaluate cargo capacity using the ECY database\n",
    "N_MMSI={}\n",
    "# Percent of vessels in size class used in ECY evaluation\n",
    "percent_total={}\n",
    "# Tanker volume transfers\n",
    "volume={}\n",
    "imports={}\n",
    "exports={}\n",
    "one_way = {}\n",
    "two_way = {}\n",
    "# Probability of full tanker for hanymax (full, half-full, total)\n",
    "handyVoyages={}\n",
    "# Handymax oil cargo capacities and probability of full cargo\n",
    "capacity = {}"
   ]
  },
  {
   "cell_type": "code",
   "execution_count": null,
   "id": "2210580c-fd82-4ad1-b7fb-98fdf5e681e9",
   "metadata": {},
   "outputs": [],
   "source": [
    "fac_xls_path = Path(\n",
    "    '/data/MIDOSS/marine_transport_data/Oil_Transfer_Facilities.xlsx'\n",
    ")\n",
    "fac_xls_path"
   ]
  },
  {
   "cell_type": "code",
   "execution_count": null,
   "id": "775fbdcf",
   "metadata": {},
   "outputs": [],
   "source": [
    "def get_ecy_tanker_byvessel(vessels,ecy_xls_path,fac_xls_path):\n",
    "    \"\"\"\n",
    "        Inputs:\n",
    "            - vessels [list]: List of vessel names, e.g.[\"AMERICAN FREEDOM\",\"PELICAN STATE\"]\n",
    "            - ecy_xls_path [path]: Location and name of ECY data spreadsheet\n",
    "            - fac_xls_path [path]: Location and name of facilities transfer spreadsheet\n",
    "        Outputs:\n",
    "            - cargo_transfers [dataframe]: 2018 cargo transfers to/from the vessels and \n",
    "               the marine terminals used in this study, in liters.  Transfers are grouped by AntID\n",
    "    \"\"\"\n",
    "    # conversion factor\n",
    "    gal2liter = 3.78541\n",
    "    # load dept. of ecology data\n",
    "    ECYdf = get_ECY_df(\n",
    "        ecy_xls_path, \n",
    "        fac_xls_path,\n",
    "        group = 'no'\n",
    "    )\n",
    "    # extract tanker cargo transfers\n",
    "    if isinstance(vessels, list):\n",
    "        cargo_transfers = ECYdf.loc[\n",
    "            (ECYdf.TransferType == 'Cargo') &\n",
    "            (ECYdf.Deliverer.isin(vessels) |\n",
    "             ECYdf.Receiver.isin(vessels)),\n",
    "            ['TransferQtyInGallon', 'Deliverer','Receiver','StartDateTime','AntID']\n",
    "        ].groupby('AntID').agg(\n",
    "            {'TransferQtyInGallon':'sum',\n",
    "             'Deliverer':'first', \n",
    "             'Receiver':'first',\n",
    "             'StartDateTime':'first'}\n",
    "            ).sort_values(by='TransferQtyInGallon',ascending=False)\n",
    "    else: # if a string\n",
    "         cargo_transfers = ECYdf.loc[\n",
    "            (ECYdf.TransferType == 'Cargo') &\n",
    "            (ECYdf.Deliverer.str.contains(vessels) |\n",
    "             ECYdf.Receiver.str.contains(vessels)),\n",
    "            ['TransferQtyInGallon', 'Deliverer','Receiver','StartDateTime','AntID']\n",
    "        ].groupby('AntID').agg(\n",
    "            {'TransferQtyInGallon':'sum',\n",
    "             'Deliverer':'first', \n",
    "             'Receiver':'first',\n",
    "             'StartDateTime':'first'}\n",
    "            ).sort_values(by='TransferQtyInGallon',ascending=False)\n",
    "    # convert to liters\n",
    "    cargo_transfers['TransferQtyInGallon'] = gal2liter*cargo_transfers['TransferQtyInGallon']\n",
    "    cargo_transfers=cargo_transfers.rename(\n",
    "        columns={\"TransferQtyInGallon\":\"TransferQtyInLiters\"}\n",
    "    ).reset_index()\n",
    "\n",
    "    return cargo_transfers\n"
   ]
  },
  {
   "cell_type": "code",
   "execution_count": null,
   "id": "46094118",
   "metadata": {},
   "outputs": [],
   "source": [
    "def get_ecy_byVesselType(type_description,ecy_xls_path,fac_xls_path):\n",
    "    \"\"\"\n",
    "        Inputs:\n",
    "            - type_description [list]: List of vessel type, e.g.['TANK SHIP']\n",
    "            - ecy_xls_path [path]: Location and name of ECY data spreadsheet\n",
    "            - fac_xls_path [path]: Location and name of facilities transfer spreadsheet\n",
    "        Outputs:\n",
    "            - cargo_transfers [dataframe]: 2018 cargo transfers to/from the vessels and \n",
    "               the marine terminals used in this study, in liters.  Transfers are grouped by AntID\n",
    "    \"\"\"\n",
    "    # conversion factor\n",
    "    gal2liter = 3.78541\n",
    "    # load dept. of ecology data\n",
    "    ECYdf = get_ECY_df(\n",
    "        ecy_xls_path, \n",
    "        fac_xls_path,\n",
    "        group = 'no'\n",
    "    )\n",
    "    # extract tanker cargo transfers\n",
    "    cargo_transfers = ECYdf.loc[\n",
    "        (ECYdf.TransferType == 'Cargo') &\n",
    "        (ECYdf.DelivererTypeDescription.isin(type_description) |\n",
    "         ECYdf.ReceiverTypeDescription.isin(type_description)),\n",
    "        ['TransferQtyInGallon', 'StartDateTime','AntID']\n",
    "    ].groupby('AntID').agg(\n",
    "        {'TransferQtyInGallon':'sum','StartDateTime':'first'}\n",
    "        ).sort_values(by='TransferQtyInGallon',ascending=False)\n",
    "\n",
    "    cargo_transfers['TransferQtyInGallon'] = gal2liter*cargo_transfers['TransferQtyInGallon']\n",
    "    cargo_transfers=cargo_transfers.rename(\n",
    "        columns={\"TransferQtyInGallon\":\"TransferQtyInLiters\"}\n",
    "    ).reset_index()\n",
    "    return cargo_transfers"
   ]
  },
  {
   "cell_type": "code",
   "execution_count": null,
   "id": "f7246229",
   "metadata": {},
   "outputs": [],
   "source": [
    "def bins_labels(bins, **kwargs):\n",
    "    \"\"\"\n",
    "    Labels x-axis of histogram with labels in center of bar\n",
    "    Inputs:\n",
    "        - bins [vector]: e.g. bins = numpy.arange(0,1.7e8,1e7)\n",
    "    \"\"\"\n",
    "    bin_w = (max(bins) - min(bins)) / (len(bins) - 1)\n",
    "    plt.xticks(numpy.arange(min(bins)+bin_w/2, max(bins)+2*bin_w/2, bin_w), bins, **kwargs, rotation=90)\n",
    "    plt.xlim(bins[0], bins[-1])"
   ]
  },
  {
   "cell_type": "code",
   "execution_count": null,
   "id": "3d1c42c1-3066-4e92-a6b7-4228849034ef",
   "metadata": {},
   "outputs": [],
   "source": [
    "# This version replaces append with concat.  Needs debugging.  Gets hung up with Smallest.\n",
    "def split_ecy_transfers(ecy_df):\n",
    "    \"\"\"\n",
    "    split dataframe of ECY transfers into two-way transfers (import and export) and one-way transfers\n",
    "    \n",
    "    Updates:\n",
    "    - [8/3/23] \n",
    "        - Addressed python warning that .append() is being retired. Changed .append() to pandas.concat()\n",
    "        - inroduced \"try\" \"except\" for creating dataframe\n",
    "    \"\"\"\n",
    "    one_way=pandas.DataFrame({})\n",
    "    two_way=pandas.DataFrame({})\n",
    "    count = 0\n",
    "    idx_taken = 0\n",
    "    # order transfers by time\n",
    "    ecy_df = ecy_df.sort_values(by='StartDateTime').reset_index(drop=True)\n",
    "    # categorize transfers for all but the last transfer\n",
    "    for idx,deliverer in enumerate(ecy_df['Deliverer']):\n",
    "        if idx != ecy_df['Deliverer'].shape[0]-1:\n",
    "            if ((ecy_df['Deliverer'][idx] == ecy_df['Receiver'][idx+1]) &\n",
    "                (ecy_df['Deliverer'][idx+1] == ecy_df['Receiver'][idx])):\n",
    "                # count number of cases where there is a delivery both ways\n",
    "                count += 1\n",
    "                #two_way = two_way.append(ecy_df.iloc[[idx]])\n",
    "                try:\n",
    "                    two_way = pandas.concat([two_way, ecy_df.iloc[[idx]]])\n",
    "                except:\n",
    "                    print('here 1')\n",
    "                    two_way = ecy_df.iloc[[idx]]\n",
    "                idx_taken = 1\n",
    "            else:\n",
    "                if idx_taken:\n",
    "                    #two_way = two_way.append(ecy_df.iloc[[idx]])\n",
    "                    try: \n",
    "                        two_way = pandas.concat([two_way, ecy_df.iloc[[idx]]])\n",
    "                    except:\n",
    "                        print('here 2')\n",
    "                        two_way = ecy_df.iloc[[idx]]\n",
    "                    idx_taken = 0\n",
    "                else:\n",
    "                    #one_way = one_way.append(ecy_df.iloc[[idx]])\n",
    "                    try: \n",
    "                        one_way = pandas.concat([one_way, ecy_df.iloc[[idx]]])\n",
    "                    except:\n",
    "                        print('here 3')\n",
    "                        one_way = ecy_df.iloc[[idx]]\n",
    "                    idx_taken = 0\n",
    "        else:\n",
    "            # categorize the last entry by comparing with the end - 1 values\n",
    "            if ((ecy_df['Deliverer'][idx] == ecy_df['Receiver'][idx-1]) &\n",
    "                (ecy_df['Deliverer'][idx-1] == ecy_df['Receiver'][idx])):\n",
    "                count += 1\n",
    "                try:\n",
    "                    two_way = pandas.concat([two_way, ecy_df.iloc[[idx]]])\n",
    "                except:\n",
    "                    print('here 4')\n",
    "                    two_way = ecy_df.iloc[[idx]]\n",
    "\n",
    "    return one_way, two_way"
   ]
  },
  {
   "cell_type": "markdown",
   "id": "6f0e710a",
   "metadata": {},
   "source": [
    "## Link vessel names to MMSI with the most AIS ship tracks in 2018, by category\n",
    "- Vessels ranked in and selected from `binned_mmsi`"
   ]
  },
  {
   "cell_type": "code",
   "execution_count": null,
   "id": "6322dbe2",
   "metadata": {},
   "outputs": [],
   "source": [
    "mmsi_names[\"Smallest Tanker (< 60 m)\"]= {\n",
    "    368009250:\"GLOBAL PROVIDER\"\n",
    "}\n",
    "mmsi_names[\"Small Tanker (61 - 150 m)\"] = {\n",
    "    355320000:\"KIRKEHOLMEN\",\n",
    "    566306000:\"MTM HOUSTON\",\n",
    "    477636500:\"BOCHEM LONDON\"\n",
    "}\n",
    "mmsi_names[\"Handymax (151-200 m)\"] = {\n",
    "    369042000:\"AMERICAN FREEDOM\",\n",
    "    367353110:\"PELICAN STATE\", \n",
    "    366855000:\"FLORIDA\", \n",
    "    367134000:\"OVERSEAS LOS ANGELES\",\n",
    "    369040000:\"AMERICAN ENDURANCE\",\n",
    "    356159000:\"OPEC VICTORY\",\n",
    "    212656000:\"PANAGIA THALASSINI\",\n",
    "    538006302:\"SONGA PRIDE\",\n",
    "    538004682:\"ZAO GALAXY\",\n",
    "    538007277:\"CHEMBULK LINDY ALICE\",\n",
    "    538004167:\"ARGENT IRIS\",\n",
    "    338221000:\"OVERSEAS BOSTON\",\n",
    "    477185200:\"RAINBOW STAR\",\n",
    "    538005425:\"STI BATTERY\",\n",
    "    636017622:\"HIGH CHALLENGE\",\n",
    "    538006892:\"NAVIG8 SPARK\",\n",
    "    563054800:\"NAEBA GALAXY\",\n",
    "    563046100:\"HODAKA GALAXY\",\n",
    "    367353070:\"EVERGREEN STATE\",\n",
    "    566150000:\"MAERSK TIANJIN\",\n",
    "}\n",
    "mmsi_names[\"Aframax (201-250 m)\"] = {         \n",
    "    636015178:\"AQUALEGACY\",\n",
    "    220518000:\"TORM EMILIE\",\n",
    "    255806154:\"NORDTULIP\",\n",
    "    311943000:\"GULF PEARL\",\n",
    "    538001893:\"ELAN VITAL\"\n",
    "}\n",
    "mmsi_names[\"Suezmax (251-300 m)\"] = {\n",
    "    303294000:\"ALASKAN EXPLORER\",\n",
    "    367688000:\"ALASKAN NAVIGATOR\", \n",
    "    303656000:\"ALASKA LEGEND\", \n",
    "    366948190:\"ALASKA FRONTIER\"\n",
    "}\n",
    "\n",
    "# Count the number of MMSI used in each size class to evaluate cargo capacity using the DOE database\n",
    "N_MMSI[\"Smallest\"] = len(mmsi_names[\"Smallest Tanker (< 60 m)\"])\n",
    "N_MMSI[\"Small\"] = len(mmsi_names[\"Small Tanker (61 - 150 m)\"])\n",
    "N_MMSI[\"Handymax\"] = len(mmsi_names[\"Handymax (151-200 m)\"])\n",
    "N_MMSI[\"Aframax\"] = len(mmsi_names[\"Aframax (201-250 m)\"])\n",
    "N_MMSI[\"Suezmax\"] = len(mmsi_names[\"Suezmax (251-300 m)\"])"
   ]
  },
  {
   "cell_type": "code",
   "execution_count": null,
   "id": "ee009e88-af54-420a-b7fd-f474f2bd9c3a",
   "metadata": {},
   "outputs": [],
   "source": [
    "for idx,vessel_type in enumerate([*N_MMSI]):\n",
    "    # get list of vessel names by size class\n",
    "    vessels = list(mmsi_names[[*mmsi_names][idx]].values())\n",
    "    volume[vessel_type] = get_ecy_tanker_byvessel(\n",
    "        vessels, ecy_xls_path, fac_xls_path)\n",
    "    # sort transfers by transfer date/time\n",
    "    volume[vessel_type] = volume[vessel_type].sort_values(by='StartDateTime').reset_index()\n",
    "    # identify consective transfers where Deliverer/Receiver are swapped (two-way, import/export or visa versa)\n",
    "    one_way[vessel_type], two_way[vessel_type]  = split_ecy_transfers(\n",
    "        volume[vessel_type])\n",
    "    print(f'{vessel_type}: {one_way[vessel_type].shape[0]} one-way, {two_way[vessel_type].shape[0]} two-way transfers')"
   ]
  },
  {
   "cell_type": "markdown",
   "id": "c12bf2c7",
   "metadata": {},
   "source": [
    "## Create a histogram of tanker volume transfers"
   ]
  },
  {
   "cell_type": "code",
   "execution_count": null,
   "id": "7e94934a",
   "metadata": {},
   "outputs": [],
   "source": [
    "   \n",
    "fig, ax = plt.subplots(figsize=(10, 5))\n",
    "bin_width = 5e6\n",
    "bins = numpy.arange(0,1.7e8,bin_width)\n",
    "plt.hist(volume[vessel_type]['TransferQtyInLiters'], bins=bins)#, histtype = 'bar', facecolor = 'blue')\n",
    "bins_labels(bins, fontsize=12)\n",
    "ax.xaxis.set_major_formatter(FormatStrFormatter('%.2e'))\n",
    "plt.ylabel(\"Transfer counts\")\n",
    "#plt.xlabel(\"Bin Number\")\n",
    "plt.title(f\"Histogram of 2018 tanker volume transfers (liters)\\n Bin width = {bin_width:1.1e}\")\n",
    "plt.show()"
   ]
  },
  {
   "cell_type": "markdown",
   "id": "ad15ac09",
   "metadata": {},
   "source": [
    "#### Thoughts:\n",
    "- **Handymax** has the most number of ship tracks in 2018. The 4.5-5e7 liter size class is consistent with Handymax size.  \n",
    "- The cargo capacities we are using based on SILO are: \n",
    "    - **smallest tanker** 5.8e5\n",
    "    - **small tanker** 1.5e7\n",
    "    - **handymax**\t5.3e7\n",
    "    - **aframax**\t1.26e8\n",
    "    - **suezmax**\t1.85e8\n",
    "- According to the [ATC](https://www.aktanker.com/fleet-main) website, **Alaskan Explorer's carrying capacity is 206,683,483.4 liters**.  This is true of all their tankers, three of which are the first three in AIS ship track counts in 2018.  \n",
    "    - 366948190.0   5940\n",
    "    - 303656000.0  24133\n",
    "    - 303294000.0  29376\n",
    "    - 367688000.0  25157\n",
    "- **Suezmax**:The max transfer is 1.5e8 liters.  Max capacity is 2.1e8.  We classify max capacity of Suezmax as 1.85e8.  \n",
    "- We use 5 values of oil cargo capacity for tankers based on their size class. The ECY transfers suggest the following max cargo capacities for these categories\n",
    "    - **Smallest tanker**: 5.8e5 (based on max transfers for MMSI with most ship tracks, also, [Global Provider](https://www.professionalmariner.com/global-provider/) is given a cargo capacity of 567811.768)\n",
    "    - **Small tanker**: 1.5e7 (based on max transfers for MMSI  with most ship tracks)\n",
    "    - **Small tanker**: 1.75e7 (based on histogram)\n",
    "    - **Handymax**: 4e7 (based on max transfers for the two MMSI with most ship tracks)\n",
    "    - **Handymax**: 4.75e7 (based on histogram)\n",
    "    - **Aframax**: 1.2e8 (based on histogram)\n",
    "    - **Suezmax**: 1.5e8 (based on histogram, this is ~71% capacity)\n",
    "- **Question**: Do we want to adjust any of the values that we are using?  The values I am considering changing are:\n",
    "    \n",
    "    -**Handymax** from 5.3e7 to 4.75e7 and \n",
    "    -**Suezmax** from 1.85e8 to 1.5e8. "
   ]
  },
  {
   "cell_type": "markdown",
   "id": "a01313b1",
   "metadata": {},
   "source": [
    "### Check Small tankers "
   ]
  },
  {
   "cell_type": "code",
   "execution_count": null,
   "id": "1cb584ec",
   "metadata": {},
   "outputs": [],
   "source": [
    "# Get transfers for these two examples of Handymax \n",
    "vessels = list(mmsi_names[\"Small Tanker (61 - 150 m)\"].values())\n",
    "vessel_type = 'Small'\n",
    "volume[vessel_type] = get_ecy_tanker_byvessel(vessels,ecy_xls_path,fac_xls_path)\n",
    "\n",
    "# plot histogram of handimax transfers\n",
    "fig, ax = plt.subplots()\n",
    "bin_width = 1e7\n",
    "bins = numpy.arange(0,1.7e8,bin_width)\n",
    "plt.hist(volume[vessel_type]['TransferQtyInLiters'], bins=bins)#, histtype = 'bar', facecolor = 'blue')\n",
    "bins_labels(bins, fontsize=12)\n",
    "ax.xaxis.set_major_formatter(FormatStrFormatter('%.2e'))\n",
    "plt.ylabel(\"Transfer counts\")\n",
    "plt.title(f\"Histogram of Small tanker volume transfers (liters)\")\n",
    "plt.show()\n",
    "\n",
    "max(volume[vessel_type]['TransferQtyInLiters'])"
   ]
  },
  {
   "cell_type": "markdown",
   "id": "119cdb34",
   "metadata": {},
   "source": [
    "### Check Handymax tankers using transfers for the ten vessels with the most AIS ship tracks"
   ]
  },
  {
   "cell_type": "code",
   "execution_count": null,
   "id": "726dbcab",
   "metadata": {},
   "outputs": [],
   "source": [
    "# Get transfers for these two examples of Handymax \n",
    "vessels = list(mmsi_names[\"Handymax (151-200 m)\"].values())\n",
    "vessel_type = 'Handymax'\n",
    "volume[vessel_type] = get_ecy_tanker_byvessel(vessels,ecy_xls_path,fac_xls_path)\n",
    "\n",
    "# plot histogram of handimax transfers\n",
    "fig, ax = plt.subplots()\n",
    "bin_width = 1e7\n",
    "bins = numpy.arange(0,1.7e8,bin_width)\n",
    "plt.hist(volume[vessel_type]['TransferQtyInLiters'], bins=bins)#, histtype = 'bar', facecolor = 'blue')\n",
    "bins_labels(bins, fontsize=12)\n",
    "ax.xaxis.set_major_formatter(FormatStrFormatter('%.2e'))\n",
    "plt.ylabel(\"Transfer counts\")\n",
    "plt.title(f\"Histogram of Handymax tanker volume transfers (liters)\")\n",
    "plt.show()\n",
    "\n",
    "max(volume['Handymax']['TransferQtyInLiters'])"
   ]
  },
  {
   "cell_type": "code",
   "execution_count": null,
   "id": "efc1ae56-15b3-4743-a72c-19d1a4d57b35",
   "metadata": {},
   "outputs": [],
   "source": [
    "vessels = list(mmsi_names[\"Handymax (151-200 m)\"].values())\n",
    "vessel_type = 'Handymax'\n",
    "volume[vessel_type] = get_ecy_tanker_byvessel(vessels,ecy_xls_path,fac_xls_path)\n",
    "pandas.set_option('display.max_rows', volume[vessel_type].shape[0]+1)\n",
    "\n",
    "\n",
    "# plot histogram of handimax transfers\n",
    "fig, ax = plt.subplots()\n",
    "bin_width = 1e7\n",
    "bins = numpy.arange(0,1.7e8,bin_width)\n",
    "plt.hist(volume[vessel_type]['TransferQtyInLiters'], bins=bins)#, histtype = 'bar', facecolor = 'blue')\n",
    "bins_labels(bins, fontsize=12)\n",
    "ax.xaxis.set_major_formatter(FormatStrFormatter('%.2e'))\n",
    "plt.ylabel(\"Transfer counts\")\n",
    "plt.title(f\"Histogram of Handymax tanker volume transfers (liters)\")\n",
    "plt.show()\n",
    "\n"
   ]
  },
  {
   "cell_type": "markdown",
   "id": "f3ea8c70-31da-49fd-8b72-c2e9272514b8",
   "metadata": {},
   "source": [
    "#### Divide transfers into those with both import and export vs. one-way only:\n",
    "- 100% full tankers that have import and export transfers per terminal stop (\"double\" transfer) and \n",
    "- 50% tankers that have either import or export (\"single\" transfer) "
   ]
  },
  {
   "cell_type": "code",
   "execution_count": null,
   "id": "fc11cc97-8168-4f91-9a60-9ce4b90dddb6",
   "metadata": {},
   "outputs": [],
   "source": [
    "for idx,vessel_type in enumerate([*N_MMSI]):\n",
    "    # get list of vessel names by size class\n",
    "    vessels = list(mmsi_names[[*mmsi_names][idx]].values())\n",
    "    volume[vessel_type] = get_ecy_tanker_byvessel(\n",
    "        vessels, ecy_xls_path, fac_xls_path)\n",
    "    volume[vessel_type] = volume[vessel_type].sort_values(by='StartDateTime').reset_index()"
   ]
  },
  {
   "cell_type": "code",
   "execution_count": null,
   "id": "9cbb77fe-4d79-4fc1-bcf0-68af5471e2cd",
   "metadata": {},
   "outputs": [],
   "source": [
    "del one_way, two_way\n",
    "vessel_type=\"Handymax\"\n",
    "ecy_df = volume[vessel_type].copy()\n",
    "# one_way=pandas.DataFrame({})\n",
    "# two_way=pandas.DataFrame({})\n",
    "count = 0\n",
    "idx_taken = 0\n",
    "# order transfers by time\n",
    "ecy_df = ecy_df.sort_values(by='StartDateTime').reset_index(drop=True)\n",
    "# categorize transfers for all but the last transfer\n",
    "for idx,deliverer in enumerate(ecy_df['Deliverer']):\n",
    "    if idx != ecy_df['Deliverer'].shape[0]-1:\n",
    "        if ((ecy_df['Deliverer'][idx] == ecy_df['Receiver'][idx+1]) &\n",
    "            (ecy_df['Deliverer'][idx+1] == ecy_df['Receiver'][idx])):\n",
    "            # count number of cases where there is a delivery both ways\n",
    "            count += 1\n",
    "            #two_way = two_way.append(ecy_df.iloc[[idx]])\n",
    "            try:\n",
    "                two_way = pandas.concat([two_way, ecy_df.iloc[[idx]]])\n",
    "            except:\n",
    "                two_way = ecy_df.iloc[[idx]]\n",
    "            idx_taken = 1\n",
    "        else:\n",
    "            if idx_taken:\n",
    "                #two_way = two_way.append(ecy_df.iloc[[idx]])\n",
    "                try: \n",
    "                    two_way = pandas.concat([two_way, ecy_df.iloc[[idx]]])\n",
    "                except:\n",
    "                    two_way = ecy_df.iloc[[idx]]\n",
    "                idx_taken = 0\n",
    "            else:\n",
    "                #one_way = one_way.append(ecy_df.iloc[[idx]])\n",
    "                try: \n",
    "                    one_way = pandas.concat([one_way, ecy_df.iloc[[idx]]])\n",
    "                except:\n",
    "                    one_way = ecy_df.iloc[[idx]]\n",
    "                idx_taken = 0\n",
    "    else:\n",
    "        # categorize the last entry by comparing with the end - 1 values\n",
    "        if ((ecy_df['Deliverer'][idx] == ecy_df['Receiver'][idx-1]) &\n",
    "            (ecy_df['Deliverer'][idx-1] == ecy_df['Receiver'][idx])):\n",
    "            count += 1\n",
    "            try:\n",
    "\n",
    "                two_way = pandas.concat([two_way, ecy_df.iloc[[idx]]])\n",
    "            except:\n",
    "                two_way = ecy_df.iloc[[idx]]"
   ]
  },
  {
   "cell_type": "code",
   "execution_count": null,
   "id": "c88b045e-b1a7-4f5f-8282-c573fa5c99c1",
   "metadata": {},
   "outputs": [],
   "source": [
    "two_way=two_way.reset_index()"
   ]
  },
  {
   "cell_type": "code",
   "execution_count": null,
   "id": "f9b1aa50-0724-40c9-838b-1f79ab9ebf41",
   "metadata": {},
   "outputs": [],
   "source": [
    "two_way['StartDateTime']=pandas.to_datetime(two_way['StartDateTime'])"
   ]
  },
  {
   "cell_type": "code",
   "execution_count": null,
   "id": "c40330a1-45d8-4aaf-a617-28b407474e51",
   "metadata": {},
   "outputs": [],
   "source": [
    "dt_seconds = [(two_way['StartDateTime'][ind+1] - two_way['StartDateTime'][ind]).seconds for ind in numpy.arange(len(two_way)-1)]\n",
    "dt_days = [(two_way['StartDateTime'][ind+1] - two_way['StartDateTime'][ind]).days for ind in numpy.arange(len(two_way)-1)]\n",
    "dt_hours = numpy.array(dt_seconds)/3600 + numpy.array(dt_days) * 24"
   ]
  },
  {
   "cell_type": "code",
   "execution_count": null,
   "id": "e5c60ce7-ea58-45b3-938e-7ed0e13ca145",
   "metadata": {},
   "outputs": [],
   "source": [
    "plt.hist(dt_hours,bins=[0, 24, 48, 72, 96, 120, 144, 168, 700])"
   ]
  },
  {
   "cell_type": "markdown",
   "id": "9976ecaa-415a-42cb-a4dc-2c2b51801ae8",
   "metadata": {},
   "source": [
    "### Same length of ECY dataframe when sorted by An=> no duplicate AntIDs.  This is different than what I had seen before, where duplicate AntIDs indicated two-way transfers.  ecy_df.shape"
   ]
  },
  {
   "cell_type": "markdown",
   "id": "b7b9e601-7a22-4f01-a118-49c47b66c2c1",
   "metadata": {},
   "source": [
    "### Repeat of above with all transfers.  This is what I remember seeing from before=> duplicate AntIDs"
   ]
  },
  {
   "cell_type": "code",
   "execution_count": null,
   "id": "5bc1bf49-e29f-42c0-bb44-522f30d80ec6",
   "metadata": {},
   "outputs": [],
   "source": [
    "ECYdf.shape"
   ]
  },
  {
   "cell_type": "code",
   "execution_count": null,
   "id": "31184985-f2e5-4989-b576-7c7541bde119",
   "metadata": {},
   "outputs": [],
   "source": [
    "ECYdf.groupby('AntID').count().shape"
   ]
  },
  {
   "cell_type": "markdown",
   "id": "d53d1925-f940-4956-88c6-9e2e372de833",
   "metadata": {
    "tags": []
   },
   "source": [
    "### Evaluate duplicate AntIDs => multiple oils in one transfer"
   ]
  },
  {
   "cell_type": "code",
   "execution_count": null,
   "id": "fb69bf9f-1cbc-40d6-af75-1e9973a2d45f",
   "metadata": {},
   "outputs": [],
   "source": [
    "ECYdf_antid=ECYdf[['StartDateTime','AntID']].groupby('AntID').count().rename(columns={'StartDateTime':'count'})\n",
    "ECYdf_antid[ECYdf_antid['count']>1]"
   ]
  },
  {
   "cell_type": "code",
   "execution_count": null,
   "id": "16015faa-c03b-44b1-8fbc-e862d8b5ba5d",
   "metadata": {},
   "outputs": [],
   "source": [
    "print(f'{vessel_type}: {one_way.shape[0]} one-way, {two_way.shape[0]} two-way transfers')"
   ]
  },
  {
   "cell_type": "code",
   "execution_count": null,
   "id": "a37dff0e-2aa7-448a-aa15-837c3fa7cb77",
   "metadata": {},
   "outputs": [],
   "source": [
    "#for idx,vessel_type in enumerate([*N_MMSI]):\n",
    "for idx,vessel_type in enumerate(['Handymax']):\n",
    "    print(vessel_type)\n",
    "    one_way[vessel_type], two_way[vessel_type]  = split_ecy_transfers(\n",
    "        volume[vessel_type])"
   ]
  },
  {
   "cell_type": "markdown",
   "id": "d1e39d21-3456-426b-a2cc-f78c4b25ba37",
   "metadata": {},
   "source": [
    "### Calculate probability of full tanker for handimax"
   ]
  },
  {
   "cell_type": "code",
   "execution_count": null,
   "id": "8ed65e6e-d470-4d02-b15f-7e00448a5018",
   "metadata": {},
   "outputs": [],
   "source": [
    "handyVoyages['full'] = two_way['Handymax'].shape[0]\n",
    "handyVoyages['half_full'] = 2*one_way['Handymax'].shape[0]\n",
    "handyVoyages['total'] = handyVoyages['full']+handyVoyages['half_full']\n",
    "handyFullProbability = (1.0 * handyVoyages['full']/handyVoyages['total'] +\n",
    "                        0.5 * handyVoyages['half_full']/handyVoyages['total'])\n",
    "# Assign output to yaml file used in oil_attribution.ipynb\n",
    "capacity['probability_full_handymax'] = handyFullProbability\n",
    "print(f'Probability of full Handymax: {handyFullProbability:.2f}')"
   ]
  },
  {
   "cell_type": "markdown",
   "id": "ea0f4b52-10ad-4dfc-85d8-de9adedeb9f6",
   "metadata": {},
   "source": [
    "#### List number of WA state ECY transfers per Handymax\n",
    "- NOTE: Absent ECY transfers -> CAD traffic"
   ]
  },
  {
   "cell_type": "code",
   "execution_count": null,
   "id": "21844c4f-2b18-44fe-b61d-3e77587eab2b",
   "metadata": {},
   "outputs": [],
   "source": [
    "total = 0\n",
    "vessels = list(mmsi_names[\"Handymax (151-200 m)\"].values())\n",
    "for vessel in vessels:\n",
    "    test = get_ecy_tanker_byvessel(vessel,ecy_xls_path,fac_xls_path)\n",
    "    print(vessel, test.shape[0])\n",
    "    total += test.shape[0]\n",
    "total"
   ]
  },
  {
   "cell_type": "markdown",
   "id": "bfd1956b-dc11-49be-8e1c-25c08e1c304e",
   "metadata": {},
   "source": [
    "#### NOTE: Some of the top tankers in AIS ship tracks are partially or fully CAD and not represented in the ECY transfers"
   ]
  },
  {
   "cell_type": "code",
   "execution_count": null,
   "id": "cda5550d-4c46-40f1-b166-54c0897619dd",
   "metadata": {},
   "outputs": [],
   "source": [
    "vessel_type = 'Handymax'\n",
    "volume[vessel_type]['Deliverer'].shape[0]"
   ]
  },
  {
   "cell_type": "code",
   "execution_count": null,
   "id": "55428962-144c-4181-bd18-8b6011785788",
   "metadata": {},
   "outputs": [],
   "source": [
    "print(f'{two_way[vessel_type].shape[0]} paired transfers')\n",
    "print(f'{one_way[vessel_type].shape[0]} single transfers')"
   ]
  },
  {
   "cell_type": "code",
   "execution_count": null,
   "id": "b4533831-8c65-485c-8a5d-4869b4461dde",
   "metadata": {},
   "outputs": [],
   "source": [
    "ax = one_way[vessel_type]['TransferQtyInLiters'].hist()\n",
    "ax.set_title('Handymax transfer quantities (liters) for vessels that are 50% full')"
   ]
  },
  {
   "cell_type": "code",
   "execution_count": null,
   "id": "684a0fb4-a5f1-4d0c-96cf-8c2be1cf4f6c",
   "metadata": {},
   "outputs": [],
   "source": [
    "ax = two_way[vessel_type]['TransferQtyInLiters'].hist()\n",
    "ax.set_title('Handymax transfer quantities (liters) for vessels that are 100% full')"
   ]
  },
  {
   "cell_type": "code",
   "execution_count": null,
   "id": "dff2fd36-2930-4da1-9f0d-1ce062a7348b",
   "metadata": {},
   "outputs": [],
   "source": [
    "handimax_combined = one_way[vessel_type].append(two_way[vessel_type])\n",
    "ax = handimax_combined['TransferQtyInLiters'].hist()\n",
    "ax.set_title('Handymax transfer quantities (liters) for all vessels')"
   ]
  },
  {
   "cell_type": "code",
   "execution_count": null,
   "id": "dab509f7-b473-41f9-b6e7-10602f0ae2aa",
   "metadata": {},
   "outputs": [],
   "source": [
    "max(volume['Handymax']['TransferQtyInLiters'])"
   ]
  },
  {
   "cell_type": "code",
   "execution_count": null,
   "id": "51c200ef-b799-4210-b69f-4cec7f94dd2d",
   "metadata": {},
   "outputs": [],
   "source": [
    "nbins = 15\n",
    "max_full = max(volume['Handymax']['TransferQtyInLiters'])\n",
    "# if max(volume['Handymax']['TransferQtyInLiters']) > max_full:\n",
    "#     raise ValueError('Upper bin limit for Handymax needs to be ajusted up')\n",
    "\n",
    "bin_values = numpy.arange(\n",
    "    0,\n",
    "    max_full + max_full/nbins,\n",
    "    max_full/nbins\n",
    ")\n",
    "\n",
    "fig, ax = plt.subplots(figsize = (3,3))\n",
    "n, cargo_capacity, patches = ax.hist(\n",
    "        volume['Handymax']['TransferQtyInLiters'],\n",
    "        bins = bin_values)\n",
    "ax.set_xlabel('Transfer volume')\n",
    "ax.set_ylabel('Number of transfers')\n",
    "ax.set_ylim(0,30)\n",
    "ax.set_title(f'Handymax max cargo distribution')"
   ]
  },
  {
   "cell_type": "code",
   "execution_count": null,
   "id": "eb84d638-0f3e-47c4-95e3-1387b6b2839d",
   "metadata": {},
   "outputs": [],
   "source": [
    "print(f'Max Handymax volume transfer (liters): {max(volume[\"Handymax\"][\"TransferQtyInLiters\"])}')"
   ]
  },
  {
   "cell_type": "code",
   "execution_count": null,
   "id": "47b94a09-bc62-4155-94e8-32e6c02b1dcb",
   "metadata": {},
   "outputs": [],
   "source": [
    "weights = n/sum(n)\n",
    "capacity['weights'] = weights.tolist()\n",
    "#cargo_capacity['amount_in_liters'].pop(0) # Remove zero (lower bound of first bin)\n",
    "capacity['amount_in_liters'] = cargo_capacity.tolist()\n",
    "capacity['amount_in_liters'].pop(0)\n",
    "print(f'{len(capacity[\"amount_in_liters\"])} =? {len(capacity[\"weights\"])}')\n",
    "capacity"
   ]
  },
  {
   "cell_type": "code",
   "execution_count": null,
   "id": "083add39-a8e3-4f9d-b159-576a0835ad66",
   "metadata": {},
   "outputs": [],
   "source": [
    "with open(yaml_out_dir/'handymax_capacity.yaml', 'w') as file:\n",
    "    documents = yaml.safe_dump(capacity, file)"
   ]
  },
  {
   "cell_type": "markdown",
   "id": "6781f97f",
   "metadata": {},
   "source": [
    "### Show histograms of Aframax transfers "
   ]
  },
  {
   "cell_type": "code",
   "execution_count": null,
   "id": "d2078f81",
   "metadata": {},
   "outputs": [],
   "source": [
    "binned_mmsi[\"Aframax (201-250 m)\"].iloc[:5]"
   ]
  },
  {
   "cell_type": "code",
   "execution_count": null,
   "id": "c29fb510",
   "metadata": {},
   "outputs": [],
   "source": [
    "vessels = list(mmsi_names[\"Aframax (201-250 m)\"].values()) \n",
    "vessel_type = 'Aframax'\n",
    "volume[vessel_type] = get_ecy_tanker_byvessel(vessels,ecy_xls_path,fac_xls_path)\n",
    "\n",
    "# plot histogram of handimax transfers\n",
    "fig, ax = plt.subplots()\n",
    "bin_width = 1e7\n",
    "bins = numpy.arange(0,1.7e8,bin_width)\n",
    "plt.hist(volume[vessel_type]['TransferQtyInLiters'], bins=bins)#, histtype = 'bar', facecolor = 'blue')\n",
    "bins_labels(bins, fontsize=12)\n",
    "ax.xaxis.set_major_formatter(FormatStrFormatter('%.2e'))\n",
    "plt.ylabel(\"Transfer counts\")\n",
    "plt.title(f\"Histogram of Aframax tanker volume transfers (liters)\\n {100*percent_total['Aframax']:.0f}% of Aframax traffic\\n Bin width = {bin_width:1.1e}\")\n",
    "plt.show()\n",
    "\n",
    "max(volume['Aframax']['TransferQtyInLiters'])"
   ]
  },
  {
   "cell_type": "markdown",
   "id": "3a341c43",
   "metadata": {},
   "source": [
    "### Take away:  In some cases, multiple AntIDs are used to represent cargo transfers for a given voyage.  The sum of these is close to 1e8, which approximates SILO value of 1.26e8"
   ]
  },
  {
   "cell_type": "markdown",
   "id": "47651b1f",
   "metadata": {},
   "source": [
    "### Show histograms of Suezmax transfers "
   ]
  },
  {
   "cell_type": "code",
   "execution_count": null,
   "id": "e8b8ced0",
   "metadata": {},
   "outputs": [],
   "source": [
    "# vessels = ['ALASKAN EXPLORER', \"ALASKAN NAVIGATOR\", \"ALASKA LEGEND\", \"ALASKA FRONTIER\"] \n",
    "# vessel_type = 'Suezmax'\n",
    "# volume[vessel_type] = get_ecy_tanker_byvessel(vessels,ecy_xls_path,fac_xls_path)\n",
    "\n",
    "# fig, ax = plt.subplots()\n",
    "# bin_width = 1e7\n",
    "# bins = numpy.arange(0,1.7e8,bin_width)\n",
    "# plt.hist(volume[vessel_type]['TransferQtyInLiters'], bins=bins)#, histtype = 'bar', facecolor = 'blue')\n",
    "# bins_labels(bins, fontsize=12)\n",
    "# ax.xaxis.set_major_formatter(FormatStrFormatter('%.2e'))\n",
    "# plt.ylabel(\"Transfer counts\")\n",
    "# plt.title(f\"Histogram of Suezmax tanker volume transfers (liters)\\n {100*percent_total['Suezmax']:.0f}% traffic, Bin width = {bin_width:1.1e}\")\n",
    "# plt.show()\n",
    "\n",
    "# max(volume['Suezmax']['TransferQtyInLiters'])"
   ]
  },
  {
   "cell_type": "markdown",
   "id": "7a0f123b-5091-40b6-9540-fe416fae8e06",
   "metadata": {},
   "source": [
    "# Cargo transfer evaluations "
   ]
  },
  {
   "cell_type": "markdown",
   "id": "4151818c-bf53-4fb6-b25d-c941c4621c46",
   "metadata": {},
   "source": [
    "### Handymax"
   ]
  },
  {
   "cell_type": "code",
   "execution_count": null,
   "id": "7e685703-03ff-4ed3-aedb-7d95e231714e",
   "metadata": {},
   "outputs": [],
   "source": [
    "# vessels = [\"AMERICAN FREEDOM\",\"PELICAN STATE\", \"FLORIDA\",\n",
    "#           'PANAGIA THALASSINI','CHEMBULK LINDY ALICE','ZAO GALAXY',\n",
    "#            'OVERSEAS LOS ANGELES','AMERICAN ENDURANCE','OPEC VICTORY','SONGA PRIDE',] \n",
    "# vessel_type = 'Handymax'\n",
    "\n",
    "# ### Get a sense of behavior with fueling\n",
    "# volume[vessel_type] = ECYdf.loc[\n",
    "#     (ECYdf.Deliverer.isin(vessels) |\n",
    "#      ECYdf.Receiver.isin(vessels)),\n",
    "#     ['TransferQtyInGallon', 'Deliverer','Receiver','StartDateTime','AntID']\n",
    "# ].groupby('AntID').agg(\n",
    "#     {'TransferQtyInGallon':'sum','Deliverer':'first', 'Receiver':'first','StartDateTime':'first'}\n",
    "#     ).sort_values(by='TransferQtyInGallon',ascending=False)\n",
    "\n",
    "# volume[vessel_type]['TransferQtyInLiters'] = gal2liter*volume[vessel_type]['TransferQtyInGallon']\n",
    "# volume[vessel_type]=volume[vessel_type].sort_values(by='StartDateTime')\n",
    "# pandas.set_option('display.max_rows', volume[vessel_type].shape[0]+1)\n",
    "# volume[vessel_type]"
   ]
  },
  {
   "cell_type": "markdown",
   "id": "23333e5f-f492-4c1b-9687-9da325f71c8e",
   "metadata": {},
   "source": [
    "### Aframax"
   ]
  },
  {
   "cell_type": "code",
   "execution_count": null,
   "id": "e6a9b649-f1f4-4a6b-939c-92b629b439e6",
   "metadata": {},
   "outputs": [],
   "source": [
    "### Get a sense of behavior with fueling\n",
    "# volume['Aframax'] = ECYdf.loc[\n",
    "#     (ECYdf.Deliverer.isin([\"AQUALEGACY\",\"TORM EMILIE\",\"NORDTULIP\",\"GULF PEARL\",\"ELAN VITAL\"] ) |\n",
    "#      ECYdf.Receiver.isin([\"AQUALEGACY\",\"TORM EMILIE\",\"NORDTULIP\",\"GULF PEARL\",\"ELAN VITAL\"] )),\n",
    "#     ['TransferQtyInGallon', 'Deliverer','Receiver','StartDateTime','AntID']\n",
    "# ].groupby('AntID').agg(\n",
    "#     {'TransferQtyInGallon':'sum','Deliverer':'first', 'Receiver':'first','StartDateTime':'first'}\n",
    "#     ).sort_values(by='TransferQtyInGallon',ascending=False)\n",
    "\n",
    "# volume['Aframax']['TransferQtyInLiters'] = gal2liter*volume['Aframax']['TransferQtyInGallon']\n",
    "# volume['Aframax']=volume['Aframax'].sort_values(by='StartDateTime')\n",
    "# pandas.set_option('display.max_rows', volume['Aframax'].shape[0]+1)\n",
    "# volume['Aframax']"
   ]
  },
  {
   "cell_type": "markdown",
   "id": "36a74501-e24c-4ae5-81a6-170a5a3178bf",
   "metadata": {},
   "source": [
    "### Suezmax"
   ]
  },
  {
   "cell_type": "markdown",
   "id": "02e2ef98",
   "metadata": {
    "tags": []
   },
   "source": [
    "#### Take-away:  Indeed...big boats distribute in smaller transfers.  Show transfers to evaluate."
   ]
  },
  {
   "cell_type": "code",
   "execution_count": null,
   "id": "28812d55",
   "metadata": {},
   "outputs": [],
   "source": [
    "# volume['Suezmax']=volume['Suezmax'].sort_values(by='StartDateTime')\n",
    "# pandas.set_option('display.max_rows', volume['Suezmax'].shape[0]+1)\n",
    "# volume['Suezmax']"
   ]
  },
  {
   "cell_type": "code",
   "execution_count": null,
   "id": "28ff188f",
   "metadata": {},
   "outputs": [],
   "source": [
    "### Get a sense of behavior with fueling\n",
    "# volume['Suezmax'] = ECYdf.loc[\n",
    "#     (ECYdf.Deliverer.isin(['ALASKAN EXPLORER', \"ALASKAN NAVIGATOR\", \"ALASKA LEGEND\", \"ALASKA FRONTIER\"]) |\n",
    "#      ECYdf.Receiver.isin(['ALASKAN EXPLORER', \"ALASKAN NAVIGATOR\", \"ALASKA LEGEND\", \"ALASKA FRONTIER\"])),\n",
    "#     ['TransferQtyInGallon', 'Deliverer','Receiver','StartDateTime','AntID']\n",
    "# ].groupby('AntID').agg(\n",
    "#     {'TransferQtyInGallon':'sum','Deliverer':'first', 'Receiver':'first','StartDateTime':'first'}\n",
    "#     ).sort_values(by='TransferQtyInGallon',ascending=False)\n",
    "\n",
    "# volume['Suezmax']['TransferQtyInLiters'] = gal2liter*volume['Suezmax']['TransferQtyInGallon']\n",
    "# volume['Suezmax']=volume['Suezmax'].sort_values(by='StartDateTime')\n",
    "# pandas.set_option('display.max_rows', volume['Suezmax'].shape[0]+1)\n",
    "# volume['Suezmax']"
   ]
  },
  {
   "cell_type": "markdown",
   "id": "115db3e1-c238-449a-a194-eecf00a72e7a",
   "metadata": {},
   "source": [
    "## Aframax"
   ]
  },
  {
   "cell_type": "code",
   "execution_count": null,
   "id": "19cabe65-6506-4b65-90d1-79667d8050c8",
   "metadata": {},
   "outputs": [],
   "source": [
    "### Get a sense of behavior with fueling\n",
    "# volume['Suezmax'] = ECYdf.loc[\n",
    "#     (ECYdf.Deliverer.isin(['ALASKAN EXPLORER', \"ALASKAN NAVIGATOR\", \"ALASKA LEGEND\", \"ALASKA FRONTIER\"]) |\n",
    "#      ECYdf.Receiver.isin(['ALASKAN EXPLORER', \"ALASKAN NAVIGATOR\", \"ALASKA LEGEND\", \"ALASKA FRONTIER\"])),\n",
    "#     ['TransferQtyInGallon', 'Deliverer','Receiver','StartDateTime','AntID']\n",
    "# ].groupby('AntID').agg(\n",
    "#     {'TransferQtyInGallon':'sum','Deliverer':'first', 'Receiver':'first','StartDateTime':'first'}\n",
    "#     ).sort_values(by='TransferQtyInGallon',ascending=False)\n",
    "\n",
    "# volume['Suezmax']['TransferQtyInLiters'] = gal2liter*volume['Suezmax']['TransferQtyInGallon']\n",
    "# volume['Suezmax']=volume['Suezmax'].sort_values(by='StartDateTime')\n",
    "# pandas.set_option('display.max_rows', volume['Suezmax'].shape[0]+1)\n",
    "# volume['Suezmax']"
   ]
  }
 ],
 "metadata": {
  "kernelspec": {
   "display_name": "Python 3 (ipykernel)",
   "language": "python",
   "name": "python3"
  },
  "language_info": {
   "codemirror_mode": {
    "name": "ipython",
    "version": 3
   },
   "file_extension": ".py",
   "mimetype": "text/x-python",
   "name": "python",
   "nbconvert_exporter": "python",
   "pygments_lexer": "ipython3",
   "version": "3.12.0"
  }
 },
 "nbformat": 4,
 "nbformat_minor": 5
}
